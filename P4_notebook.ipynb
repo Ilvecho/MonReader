{
  "nbformat": 4,
  "nbformat_minor": 0,
  "metadata": {
    "colab": {
      "provenance": [],
      "authorship_tag": "ABX9TyPNKaeqpk1RhF70Qo2sASIb",
      "include_colab_link": true
    },
    "kernelspec": {
      "name": "python3",
      "display_name": "Python 3"
    },
    "language_info": {
      "name": "python"
    }
  },
  "cells": [
    {
      "cell_type": "markdown",
      "metadata": {
        "id": "view-in-github",
        "colab_type": "text"
      },
      "source": [
        "<a href=\"https://colab.research.google.com/github/Ilvecho/Project_4/blob/main/P4_notebook.ipynb\" target=\"_parent\"><img src=\"https://colab.research.google.com/assets/colab-badge.svg\" alt=\"Open In Colab\"/></a>"
      ]
    },
    {
      "cell_type": "code",
      "execution_count": 6,
      "metadata": {
        "colab": {
          "base_uri": "https://localhost:8080/"
        },
        "id": "wt8nsZVjwXxh",
        "outputId": "6a3e6cf9-c804-40be-8a1b-db0f7e5e8a39"
      },
      "outputs": [
        {
          "output_type": "stream",
          "name": "stdout",
          "text": [
            "Mounted at /content/gdrive\n"
          ]
        }
      ],
      "source": [
        "import os\n",
        "import numpy as np\n",
        "import matplotlib.pyplot as plt\n",
        "import cv2\n",
        "\n",
        "from google.colab import drive\n",
        "drive.mount('/content/gdrive')"
      ]
    },
    {
      "cell_type": "code",
      "source": [
        "!unzip /content/gdrive/MyDrive/images"
      ],
      "metadata": {
        "id": "WA3rHs1g5Gsc"
      },
      "execution_count": null,
      "outputs": []
    },
    {
      "cell_type": "code",
      "source": [
        "DATADIR = '/content/gdrive/Ny Drive/images'\n",
        "CATEGORIES = ['flip', 'notflip']\n",
        "\n",
        "for use in ['training', 'testing']:\n",
        "  for category in CATEGORIES:\n",
        "    path = os.path.join(DATADIR,use,category)  # create path to the data\n",
        "    for img in os.listdir(path):  # iterate over each image\n",
        "      img_array = cv2.imread(os.path.join(path,img) ,cv2.IMREAD_RGB)  # convert to array\n",
        "      plt.imshow(img_array, cmap='rgb')  # graph it\n",
        "      plt.show()  # display!\n",
        "\n",
        "      break  # we just want one for now so break\n",
        "    break  #...and one more!\n",
        "  break"
      ],
      "metadata": {
        "id": "PcClmOUX4iu6"
      },
      "execution_count": null,
      "outputs": []
    }
  ]
}