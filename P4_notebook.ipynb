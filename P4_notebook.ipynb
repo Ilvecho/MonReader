{
  "nbformat": 4,
  "nbformat_minor": 0,
  "metadata": {
    "colab": {
      "provenance": [],
      "gpuType": "T4",
      "authorship_tag": "ABX9TyMdvWnmFOsGNSe1X0lqImiQ",
      "include_colab_link": true
    },
    "kernelspec": {
      "name": "python3",
      "display_name": "Python 3"
    },
    "language_info": {
      "name": "python"
    },
    "accelerator": "GPU"
  },
  "cells": [
    {
      "cell_type": "markdown",
      "metadata": {
        "id": "view-in-github",
        "colab_type": "text"
      },
      "source": [
        "<a href=\"https://colab.research.google.com/github/Ilvecho/Project_4/blob/main/P4_notebook.ipynb\" target=\"_parent\"><img src=\"https://colab.research.google.com/assets/colab-badge.svg\" alt=\"Open In Colab\"/></a>"
      ]
    },
    {
      "cell_type": "markdown",
      "source": [
        "# Problem Description"
      ],
      "metadata": {
        "id": "gBuqzAc6ORis"
      }
    },
    {
      "cell_type": "markdown",
      "source": [
        "The goal of this project is to perform **image binary classification**.\n",
        "\n",
        "In particular, given a set of images, we need to classify them in \"flip\" or \"not flip\".\n",
        "\n",
        "With a look to the dataset, we can notice that there are some differences between the two categories of images, in particula:\n",
        "- Flip images will have a higher blur level\n",
        "- Flip images will have edges in the middle of the image (corresponding to the page being flipped)\n",
        "\n",
        "We will develop a Convolutional Neural Network (CNN), which is the go-to solution for computer vision problems, and we hope the network will be able to pick up the above highlighted differences.\n",
        "\n",
        "_Dataset analysis_\n",
        "\n",
        "We further analyzed the dataset and noticed:\n",
        "- The top and bottom part of the images do not contain any relevant information -> In the pre-processing phase we will **crop** the image\n",
        "- The image has colors (three channels), but we don't need them -> convert to gray scale\n",
        "- The resolution of the images is unnecessarely high -> resize the image"
      ],
      "metadata": {
        "id": "QgCKMxJEOU6n"
      }
    },
    {
      "cell_type": "code",
      "execution_count": 1,
      "metadata": {
        "colab": {
          "base_uri": "https://localhost:8080/"
        },
        "id": "wt8nsZVjwXxh",
        "outputId": "ee75b324-91ca-4fca-e838-954a45abb53f"
      },
      "outputs": [
        {
          "output_type": "stream",
          "name": "stdout",
          "text": [
            "Mounted at /content/gdrive\n"
          ]
        }
      ],
      "source": [
        "import os\n",
        "import numpy as np\n",
        "import matplotlib.pyplot as plt\n",
        "import cv2\n",
        "import pickle\n",
        "import random\n",
        "import plotly.express as px\n",
        "import plotly.graph_objects as go\n",
        "import pandas as pd\n",
        "\n",
        "from google.colab import drive\n",
        "drive.mount('/content/gdrive')"
      ]
    },
    {
      "cell_type": "markdown",
      "source": [
        "# Test and training data label assignment"
      ],
      "metadata": {
        "id": "kc27cEWy4TlA"
      }
    },
    {
      "cell_type": "markdown",
      "source": [
        "If we have not done it yet, we unzip the images.zip file"
      ],
      "metadata": {
        "id": "cWBxLS9G8uiq"
      }
    },
    {
      "cell_type": "code",
      "source": [
        "try:\n",
        "  open('images/testing/flip/0001_000000020.jpg', 'rb')\n",
        "except:\n",
        "  !unzip /content/gdrive/MyDrive/P4_files/images"
      ],
      "metadata": {
        "id": "WA3rHs1g5Gsc"
      },
      "execution_count": null,
      "outputs": []
    },
    {
      "cell_type": "markdown",
      "source": [
        "Unfortunately colab does not have the os.listdir functionality (or at least I could not find it). So I created a dictionary with the list of file names and saved it in a pickle file on My Drive"
      ],
      "metadata": {
        "id": "GNyUzpV28zjj"
      }
    },
    {
      "cell_type": "code",
      "source": [
        "import pickle\n",
        "\n",
        "handle = open('/content/gdrive/MyDrive/P4_files/img_names.pkl', 'rb')\n",
        "img_names = pickle.load(handle)"
      ],
      "metadata": {
        "id": "jycbdKV9yYTe"
      },
      "execution_count": 11,
      "outputs": []
    },
    {
      "cell_type": "markdown",
      "source": [
        "check the image size and it's way too big, so we reduce the size and make sure that the action of flipping is still recognizable"
      ],
      "metadata": {
        "id": "R3qmYHjM9GhY"
      }
    },
    {
      "cell_type": "code",
      "source": [
        "IMG_SIZE = 256\n",
        "\n",
        "img_array = cv2.imread('images/testing/flip/0001_000000020.jpg')\n",
        "img_cvt=cv2.cvtColor(img_array, cv2.COLOR_BGR2RGB)\n",
        "plt.imshow(img_cvt)\n",
        "plt.show()\n",
        "\n",
        "img_array = img_array[170:1250, :, :]\n",
        "print(img_array.shape)\n",
        "img_cvt=cv2.cvtColor(img_array, cv2.COLOR_BGR2RGB)\n",
        "plt.imshow(img_cvt)\n",
        "plt.show()\n",
        "\n",
        "img_array = cv2.resize(img_array, (IMG_SIZE, IMG_SIZE))\n",
        "print(img_array.shape)\n",
        "img_cvt=cv2.cvtColor(img_array, cv2.COLOR_BGR2RGB)\n",
        "plt.imshow(img_cvt)\n",
        "plt.show()"
      ],
      "metadata": {
        "id": "x8JJb4Ld51ZC"
      },
      "execution_count": null,
      "outputs": []
    },
    {
      "cell_type": "markdown",
      "source": [
        "In the processing we first crop the image, to obtain a square, and then we rescale.\n",
        "\n",
        "create a list of list with the resized img array and an equivalent list (same index) with the corresponding label.\n",
        "Then save the lists in pickle files.\n",
        "\n",
        "We repeat the same steps for both training and testing"
      ],
      "metadata": {
        "id": "hcODQlDE9lO2"
      }
    },
    {
      "cell_type": "code",
      "source": [
        "GCDIR = '/content/images'\n",
        "CATEGORIES = ['flip', 'notflip']\n",
        "\n",
        "cat_num = {'flip': 1, 'notflip': 0}\n",
        "\n",
        "use = 'training'\n",
        "data = []\n",
        "label = []\n",
        "\n",
        "for category in CATEGORIES:\n",
        "  path = '/'.join([GCDIR,use,category])  # create path to the data\n",
        "\n",
        "  # get the list of img names\n",
        "  data_split_name = use + '_' + category\n",
        "  names_list = img_names[data_split_name]\n",
        "\n",
        "  for img in names_list:  # iterate over each image\n",
        "    img_path = '/'.join([path, img])\n",
        "    img_array = cv2.imread(img_path)  # convert to array\n",
        "    img_array = cv2.cvtColor(img_array, cv2.COLOR_BGR2GRAY) # convert from BGR to GRAY\n",
        "    img_array = img_array[170:1250, :]                      # Crop the image\n",
        "    img_array = cv2.resize(img_array, (IMG_SIZE, IMG_SIZE)) # rescale the image\n",
        "\n",
        "    data.append(img_array)\n",
        "    label.append(cat_num[category])\n",
        "\n",
        "\n",
        "with open('/content/gdrive/MyDrive/P4_files/training_img.pkl', 'wb') as handle:\n",
        "  pickle.dump(data, handle)\n",
        "with open('/content/gdrive/MyDrive/P4_files/training_labels.pkl', 'wb') as handle:\n",
        "  pickle.dump(label, handle)"
      ],
      "metadata": {
        "id": "PcClmOUX4iu6"
      },
      "execution_count": null,
      "outputs": []
    },
    {
      "cell_type": "code",
      "source": [
        "use = 'testing'\n",
        "data = []\n",
        "label = []\n",
        "for category in CATEGORIES:\n",
        "  path = '/'.join([GCDIR,use,category])  # create path to the data\n",
        "\n",
        "  # get the list of img names\n",
        "  data_split_name = use + '_' + category\n",
        "  names_list = img_names[data_split_name]\n",
        "\n",
        "  for img in names_list:  # iterate over each image\n",
        "    img_path = '/'.join([path, img])\n",
        "    img_array = cv2.imread(img_path)  # convert to array\n",
        "    img_array = cv2.cvtColor(img_array, cv2.COLOR_BGR2GRAY) # convert from BGR to GRAY\n",
        "    img_array = img_array[170:1250, :]                      # Crop the image\n",
        "    img_array = cv2.resize(img_array, (IMG_SIZE, IMG_SIZE))\n",
        "\n",
        "    data.append(img_array)\n",
        "    label.append(cat_num[category])\n",
        "\n",
        "\n",
        "with open('/content/gdrive/MyDrive/P4_files/test_img.pkl', 'wb') as handle:\n",
        "  pickle.dump(data, handle)\n",
        "with open('/content/gdrive/MyDrive/P4_files/test_labels.pkl', 'wb') as handle:\n",
        "  pickle.dump(label, handle)"
      ],
      "metadata": {
        "id": "L5UgiicerWY-"
      },
      "execution_count": null,
      "outputs": []
    },
    {
      "cell_type": "markdown",
      "source": [
        "# Sequences dataset"
      ],
      "metadata": {
        "id": "fDKQdQRKw9Ic"
      }
    },
    {
      "cell_type": "markdown",
      "source": [
        "Let's now create the dataset to work with sequences, rather then with single frames.\n",
        "\n",
        "The idea is to have a set of frames as X and a single label value as Y"
      ],
      "metadata": {
        "id": "NftiYeZHxCZJ"
      }
    },
    {
      "cell_type": "code",
      "source": [
        "GCDIR = '/content/images'\n",
        "IMG_SIZE = 256\n",
        "CATEGORIES = ['flip', 'notflip']\n",
        "\n",
        "cat_num = {'flip': 1, 'notflip': 0}\n",
        "\n",
        "use = 'training'\n",
        "sequence = []\n",
        "data = []\n",
        "label = []\n",
        "\n",
        "curr_seq = '0001'\n",
        "cont = 0\n",
        "\n",
        "for category in CATEGORIES:\n",
        "  path = '/'.join([GCDIR,use,category])  # create path to the data\n",
        "\n",
        "  # get the list of img names\n",
        "  data_split_name = use + '_' + category\n",
        "  names_list = img_names[data_split_name]\n",
        "\n",
        "  for img in names_list:  # iterate over each image\n",
        "    img_path = '/'.join([path, img])\n",
        "    img_array = cv2.imread(img_path)  # convert to array\n",
        "    img_array = cv2.cvtColor(img_array, cv2.COLOR_BGR2GRAY) # convert from BGR to GRAY\n",
        "    img_array = img_array[170:1250, :]                      # Crop the image\n",
        "    img_array = cv2.resize(img_array, (IMG_SIZE, IMG_SIZE)) # rescale the image\n",
        "\n",
        "    # If the sequence number is the same, we simply append the image to the sequence\n",
        "    if img.split('_')[0] == curr_seq:\n",
        "      sequence.append(img_array)\n",
        "\n",
        "    # If the image belongs to a new sequence we:\n",
        "    # append the old sequence to the data list, together with the corresponding label in the correspnding list\n",
        "    # then, we reinitialize the sequence with the new image, and we also set the new sequence number\n",
        "    else:\n",
        "      data.append(np.array(sequence))\n",
        "      label.append(cat_num[category])\n",
        "      sequence = [img_array]\n",
        "      curr_seq = img.split('_')[0]\n",
        "\n",
        "  # the last image should belong to curr_seq, so the last sequence would not be appended to the data in the above if statement\n",
        "  data.append(np.array(sequence))\n",
        "  label.append(cat_num[category])\n",
        "\n",
        "\n",
        "with open('/content/gdrive/MyDrive/P4_files/training_sequ.pkl', 'wb') as handle:\n",
        "  pickle.dump(np.array(data, dtype=object), handle)\n",
        "with open('/content/gdrive/MyDrive/P4_files/training_sequ_labels.pkl', 'wb') as handle:\n",
        "  pickle.dump(np.array(label, dtype=object), handle)"
      ],
      "metadata": {
        "id": "1RPSx0mPxHve"
      },
      "execution_count": null,
      "outputs": []
    },
    {
      "cell_type": "code",
      "source": [
        "use = 'testing'\n",
        "sequence = []\n",
        "data = []\n",
        "label = []\n",
        "\n",
        "curr_seq = '0001'\n",
        "cont = 0\n",
        "\n",
        "for category in CATEGORIES:\n",
        "  path = '/'.join([GCDIR,use,category])  # create path to the data\n",
        "\n",
        "  # get the list of img names\n",
        "  data_split_name = use + '_' + category\n",
        "  names_list = img_names[data_split_name]\n",
        "\n",
        "  for img in names_list:  # iterate over each image\n",
        "    img_path = '/'.join([path, img])\n",
        "    img_array = cv2.imread(img_path)  # convert to array\n",
        "    img_array = cv2.cvtColor(img_array, cv2.COLOR_BGR2GRAY) # convert from BGR to GRAY\n",
        "    img_array = img_array[170:1250, :]                      # Crop the image\n",
        "    img_array = cv2.resize(img_array, (IMG_SIZE, IMG_SIZE)) # rescale the image\n",
        "\n",
        "    # If the sequence number is the same, we simply append the image to the sequence\n",
        "    if img.split('_')[0] == curr_seq:\n",
        "      sequence.append(img_array)\n",
        "\n",
        "    # If the image belongs to a new sequence we:\n",
        "    # append the old sequence to the data list, together with the corresponding label in the correspnding list\n",
        "    # then, we reinitialize the sequence with the new image, and we also set the new sequence number\n",
        "    else:\n",
        "      data.append(np.array(sequence))\n",
        "      label.append(cat_num[category])\n",
        "      sequence = [img_array]\n",
        "      curr_seq = img.split('_')[0]\n",
        "\n",
        "  # the last image should belong to curr_seq, so the last sequence would not be appended to the data in the above if statement\n",
        "  data.append(np.array(sequence))\n",
        "  label.append(cat_num[category])\n",
        "\n",
        "\n",
        "with open('/content/gdrive/MyDrive/P4_files/test_sequ.pkl', 'wb') as handle:\n",
        "  pickle.dump(np.array(data, dtype=object), handle)\n",
        "with open('/content/gdrive/MyDrive/P4_files/test_sequ_labels.pkl', 'wb') as handle:\n",
        "  pickle.dump(np.array(label, dtype=object), handle)"
      ],
      "metadata": {
        "id": "18ip6PxM5FnS"
      },
      "execution_count": 49,
      "outputs": []
    },
    {
      "cell_type": "markdown",
      "source": [
        "# EDA"
      ],
      "metadata": {
        "id": "67q-QgZ-7sa3"
      }
    },
    {
      "cell_type": "code",
      "source": [
        "with open('/content/gdrive/MyDrive/P4_files/training_data.pkl', 'rb') as handle:\n",
        "  training_data = pickle.load(handle)"
      ],
      "metadata": {
        "id": "zv8BdPy_8GKa"
      },
      "execution_count": null,
      "outputs": []
    },
    {
      "cell_type": "code",
      "source": [
        "training_data = np.array(training_data, dtype=object)"
      ],
      "metadata": {
        "id": "gsx0PPcdFaE6"
      },
      "execution_count": null,
      "outputs": []
    },
    {
      "cell_type": "code",
      "source": [
        "training_data.shape\n",
        "# first dimension contains the images, the second dimension contains the labels"
      ],
      "metadata": {
        "colab": {
          "base_uri": "https://localhost:8080/"
        },
        "id": "SKSaWRKb8YvC",
        "outputId": "fcee3fd9-db79-4bb0-e37b-0226b0f642ed"
      },
      "execution_count": null,
      "outputs": [
        {
          "output_type": "execute_result",
          "data": {
            "text/plain": [
              "(2392, 2)"
            ]
          },
          "metadata": {},
          "execution_count": 87
        }
      ]
    },
    {
      "cell_type": "code",
      "source": [
        "train_set_balance = training_data[:, 1].sum() / training_data.shape[0]\n",
        "print(train_set_balance)\n",
        "# fairly balanced dataset"
      ],
      "metadata": {
        "colab": {
          "base_uri": "https://localhost:8080/"
        },
        "id": "pc0tXsia8dkQ",
        "outputId": "11b55672-11da-44d4-e8e3-1f7a8af61dce"
      },
      "execution_count": null,
      "outputs": [
        {
          "output_type": "stream",
          "name": "stdout",
          "text": [
            "0.48578595317725753\n"
          ]
        }
      ]
    },
    {
      "cell_type": "markdown",
      "source": [
        "The goal of the project is to detect whether or not there is flipping in a picture.\n",
        "\n",
        "One of the caracteristics that will distinguish a picture with flipping will be the **blurring** of the moving parts.\n",
        "\n",
        "Let's now use the FFT to compute the amount of blurring in each train image, to see if there is a distinction between flip and notflip"
      ],
      "metadata": {
        "id": "Vay5TRtl9_25"
      }
    },
    {
      "cell_type": "code",
      "source": [
        "# Compute the center (x, y) coordinates to shift the FFT. Since we resize all the images, they all have the same size\n",
        "IMG_SIZE = 256\n",
        "(cX, cY) = (int(IMG_SIZE / 2.0), int(IMG_SIZE / 2.0))\n",
        "size = 5\n",
        "\n",
        "flip_mag = []\n",
        "notflip_mag = []\n",
        "\n",
        "for img, label in training_data:\n",
        "  fft = np.fft.fft2(img)\n",
        "  fftShift = np.fft.fftshift(fft)\n",
        "\n",
        "  # remove the low frequencies from the FFT\n",
        "  fftShift[cY - size:cY + size, cX - size:cX + size] = 0\n",
        "  fftShift = np.fft.ifftshift(fftShift)\n",
        "  recon = np.fft.ifft2(fftShift)\n",
        "\n",
        "  # compute the magnitude of the modified FFT\n",
        "  magnitude = 20 * np.log(np.abs(recon))\n",
        "  mean = np.mean(magnitude)\n",
        "\n",
        "  if label:\n",
        "    flip_mag.append(mean)\n",
        "  else:\n",
        "    notflip_mag.append(mean)"
      ],
      "metadata": {
        "id": "adC640Us8pvp"
      },
      "execution_count": null,
      "outputs": []
    },
    {
      "cell_type": "code",
      "source": [
        "flip_hist, flip_bins = np.histogram(flip_mag, bins=20)\n",
        "notflip_hist, notflip_bins = np.histogram(notflip_mag, bins=20)\n",
        "fig = go.Figure()\n",
        "fig.add_trace(go.Bar(x=flip_bins[:-1], y=flip_hist, name='flip'))\n",
        "fig.add_trace(go.Bar(x=notflip_bins[:-1], y=notflip_hist, name='notflip'))\n",
        "\n",
        "fig.update_layout(barmode='overlay')\n",
        "# Reduce opacity to see both histograms\n",
        "fig.update_traces(opacity=0.6)\n",
        "fig.show()"
      ],
      "metadata": {
        "colab": {
          "base_uri": "https://localhost:8080/",
          "height": 542
        },
        "id": "btw31mVzeDiR",
        "outputId": "d7bdb33b-7a43-46fe-b2b3-03ebb6a2dab9"
      },
      "execution_count": null,
      "outputs": [
        {
          "output_type": "display_data",
          "data": {
            "text/html": [
              "<html>\n",
              "<head><meta charset=\"utf-8\" /></head>\n",
              "<body>\n",
              "    <div>            <script src=\"https://cdnjs.cloudflare.com/ajax/libs/mathjax/2.7.5/MathJax.js?config=TeX-AMS-MML_SVG\"></script><script type=\"text/javascript\">if (window.MathJax && window.MathJax.Hub && window.MathJax.Hub.Config) {window.MathJax.Hub.Config({SVG: {font: \"STIX-Web\"}});}</script>                <script type=\"text/javascript\">window.PlotlyConfig = {MathJaxConfig: 'local'};</script>\n",
              "        <script src=\"https://cdn.plot.ly/plotly-2.18.2.min.js\"></script>                <div id=\"6c2e9ae3-0dbd-4546-9502-ed6a9349f267\" class=\"plotly-graph-div\" style=\"height:525px; width:100%;\"></div>            <script type=\"text/javascript\">                                    window.PLOTLYENV=window.PLOTLYENV || {};                                    if (document.getElementById(\"6c2e9ae3-0dbd-4546-9502-ed6a9349f267\")) {                    Plotly.newPlot(                        \"6c2e9ae3-0dbd-4546-9502-ed6a9349f267\",                        [{\"name\":\"flip\",\"x\":[49.081954591391586,49.633391441739306,50.184828292087026,50.736265142434746,51.287701992782466,51.839138843130186,52.390575693477906,52.942012543825626,53.493449394173346,54.04488624452107,54.596323094868794,55.14775994521651,55.699196795564234,56.250633645911954,56.802070496259674,57.353507346607394,57.904944196955114,58.456381047302834,59.007817897650554,59.559254747998274],\"y\":[7,13,34,58,67,87,65,60,33,69,58,121,133,97,84,59,54,32,11,20],\"type\":\"bar\",\"opacity\":0.6},{\"name\":\"notflip\",\"x\":[49.653575517796625,50.20126823746093,50.748960957125234,51.29665367678954,51.844346396453844,52.39203911611814,52.939731835782446,53.48742455544675,54.035117275111055,54.58280999477536,55.130502714439665,55.67819543410397,56.225888153768274,56.77358087343258,57.32127359309688,57.86896631276119,58.416659032425486,58.9643517520898,59.512044471754095,60.0597371914184],\"y\":[15,26,79,85,98,124,113,43,70,106,120,70,62,82,48,19,25,10,13,22],\"type\":\"bar\",\"opacity\":0.6}],                        {\"template\":{\"data\":{\"histogram2dcontour\":[{\"type\":\"histogram2dcontour\",\"colorbar\":{\"outlinewidth\":0,\"ticks\":\"\"},\"colorscale\":[[0.0,\"#0d0887\"],[0.1111111111111111,\"#46039f\"],[0.2222222222222222,\"#7201a8\"],[0.3333333333333333,\"#9c179e\"],[0.4444444444444444,\"#bd3786\"],[0.5555555555555556,\"#d8576b\"],[0.6666666666666666,\"#ed7953\"],[0.7777777777777778,\"#fb9f3a\"],[0.8888888888888888,\"#fdca26\"],[1.0,\"#f0f921\"]]}],\"choropleth\":[{\"type\":\"choropleth\",\"colorbar\":{\"outlinewidth\":0,\"ticks\":\"\"}}],\"histogram2d\":[{\"type\":\"histogram2d\",\"colorbar\":{\"outlinewidth\":0,\"ticks\":\"\"},\"colorscale\":[[0.0,\"#0d0887\"],[0.1111111111111111,\"#46039f\"],[0.2222222222222222,\"#7201a8\"],[0.3333333333333333,\"#9c179e\"],[0.4444444444444444,\"#bd3786\"],[0.5555555555555556,\"#d8576b\"],[0.6666666666666666,\"#ed7953\"],[0.7777777777777778,\"#fb9f3a\"],[0.8888888888888888,\"#fdca26\"],[1.0,\"#f0f921\"]]}],\"heatmap\":[{\"type\":\"heatmap\",\"colorbar\":{\"outlinewidth\":0,\"ticks\":\"\"},\"colorscale\":[[0.0,\"#0d0887\"],[0.1111111111111111,\"#46039f\"],[0.2222222222222222,\"#7201a8\"],[0.3333333333333333,\"#9c179e\"],[0.4444444444444444,\"#bd3786\"],[0.5555555555555556,\"#d8576b\"],[0.6666666666666666,\"#ed7953\"],[0.7777777777777778,\"#fb9f3a\"],[0.8888888888888888,\"#fdca26\"],[1.0,\"#f0f921\"]]}],\"heatmapgl\":[{\"type\":\"heatmapgl\",\"colorbar\":{\"outlinewidth\":0,\"ticks\":\"\"},\"colorscale\":[[0.0,\"#0d0887\"],[0.1111111111111111,\"#46039f\"],[0.2222222222222222,\"#7201a8\"],[0.3333333333333333,\"#9c179e\"],[0.4444444444444444,\"#bd3786\"],[0.5555555555555556,\"#d8576b\"],[0.6666666666666666,\"#ed7953\"],[0.7777777777777778,\"#fb9f3a\"],[0.8888888888888888,\"#fdca26\"],[1.0,\"#f0f921\"]]}],\"contourcarpet\":[{\"type\":\"contourcarpet\",\"colorbar\":{\"outlinewidth\":0,\"ticks\":\"\"}}],\"contour\":[{\"type\":\"contour\",\"colorbar\":{\"outlinewidth\":0,\"ticks\":\"\"},\"colorscale\":[[0.0,\"#0d0887\"],[0.1111111111111111,\"#46039f\"],[0.2222222222222222,\"#7201a8\"],[0.3333333333333333,\"#9c179e\"],[0.4444444444444444,\"#bd3786\"],[0.5555555555555556,\"#d8576b\"],[0.6666666666666666,\"#ed7953\"],[0.7777777777777778,\"#fb9f3a\"],[0.8888888888888888,\"#fdca26\"],[1.0,\"#f0f921\"]]}],\"surface\":[{\"type\":\"surface\",\"colorbar\":{\"outlinewidth\":0,\"ticks\":\"\"},\"colorscale\":[[0.0,\"#0d0887\"],[0.1111111111111111,\"#46039f\"],[0.2222222222222222,\"#7201a8\"],[0.3333333333333333,\"#9c179e\"],[0.4444444444444444,\"#bd3786\"],[0.5555555555555556,\"#d8576b\"],[0.6666666666666666,\"#ed7953\"],[0.7777777777777778,\"#fb9f3a\"],[0.8888888888888888,\"#fdca26\"],[1.0,\"#f0f921\"]]}],\"mesh3d\":[{\"type\":\"mesh3d\",\"colorbar\":{\"outlinewidth\":0,\"ticks\":\"\"}}],\"scatter\":[{\"fillpattern\":{\"fillmode\":\"overlay\",\"size\":10,\"solidity\":0.2},\"type\":\"scatter\"}],\"parcoords\":[{\"type\":\"parcoords\",\"line\":{\"colorbar\":{\"outlinewidth\":0,\"ticks\":\"\"}}}],\"scatterpolargl\":[{\"type\":\"scatterpolargl\",\"marker\":{\"colorbar\":{\"outlinewidth\":0,\"ticks\":\"\"}}}],\"bar\":[{\"error_x\":{\"color\":\"#2a3f5f\"},\"error_y\":{\"color\":\"#2a3f5f\"},\"marker\":{\"line\":{\"color\":\"#E5ECF6\",\"width\":0.5},\"pattern\":{\"fillmode\":\"overlay\",\"size\":10,\"solidity\":0.2}},\"type\":\"bar\"}],\"scattergeo\":[{\"type\":\"scattergeo\",\"marker\":{\"colorbar\":{\"outlinewidth\":0,\"ticks\":\"\"}}}],\"scatterpolar\":[{\"type\":\"scatterpolar\",\"marker\":{\"colorbar\":{\"outlinewidth\":0,\"ticks\":\"\"}}}],\"histogram\":[{\"marker\":{\"pattern\":{\"fillmode\":\"overlay\",\"size\":10,\"solidity\":0.2}},\"type\":\"histogram\"}],\"scattergl\":[{\"type\":\"scattergl\",\"marker\":{\"colorbar\":{\"outlinewidth\":0,\"ticks\":\"\"}}}],\"scatter3d\":[{\"type\":\"scatter3d\",\"line\":{\"colorbar\":{\"outlinewidth\":0,\"ticks\":\"\"}},\"marker\":{\"colorbar\":{\"outlinewidth\":0,\"ticks\":\"\"}}}],\"scattermapbox\":[{\"type\":\"scattermapbox\",\"marker\":{\"colorbar\":{\"outlinewidth\":0,\"ticks\":\"\"}}}],\"scatterternary\":[{\"type\":\"scatterternary\",\"marker\":{\"colorbar\":{\"outlinewidth\":0,\"ticks\":\"\"}}}],\"scattercarpet\":[{\"type\":\"scattercarpet\",\"marker\":{\"colorbar\":{\"outlinewidth\":0,\"ticks\":\"\"}}}],\"carpet\":[{\"aaxis\":{\"endlinecolor\":\"#2a3f5f\",\"gridcolor\":\"white\",\"linecolor\":\"white\",\"minorgridcolor\":\"white\",\"startlinecolor\":\"#2a3f5f\"},\"baxis\":{\"endlinecolor\":\"#2a3f5f\",\"gridcolor\":\"white\",\"linecolor\":\"white\",\"minorgridcolor\":\"white\",\"startlinecolor\":\"#2a3f5f\"},\"type\":\"carpet\"}],\"table\":[{\"cells\":{\"fill\":{\"color\":\"#EBF0F8\"},\"line\":{\"color\":\"white\"}},\"header\":{\"fill\":{\"color\":\"#C8D4E3\"},\"line\":{\"color\":\"white\"}},\"type\":\"table\"}],\"barpolar\":[{\"marker\":{\"line\":{\"color\":\"#E5ECF6\",\"width\":0.5},\"pattern\":{\"fillmode\":\"overlay\",\"size\":10,\"solidity\":0.2}},\"type\":\"barpolar\"}],\"pie\":[{\"automargin\":true,\"type\":\"pie\"}]},\"layout\":{\"autotypenumbers\":\"strict\",\"colorway\":[\"#636efa\",\"#EF553B\",\"#00cc96\",\"#ab63fa\",\"#FFA15A\",\"#19d3f3\",\"#FF6692\",\"#B6E880\",\"#FF97FF\",\"#FECB52\"],\"font\":{\"color\":\"#2a3f5f\"},\"hovermode\":\"closest\",\"hoverlabel\":{\"align\":\"left\"},\"paper_bgcolor\":\"white\",\"plot_bgcolor\":\"#E5ECF6\",\"polar\":{\"bgcolor\":\"#E5ECF6\",\"angularaxis\":{\"gridcolor\":\"white\",\"linecolor\":\"white\",\"ticks\":\"\"},\"radialaxis\":{\"gridcolor\":\"white\",\"linecolor\":\"white\",\"ticks\":\"\"}},\"ternary\":{\"bgcolor\":\"#E5ECF6\",\"aaxis\":{\"gridcolor\":\"white\",\"linecolor\":\"white\",\"ticks\":\"\"},\"baxis\":{\"gridcolor\":\"white\",\"linecolor\":\"white\",\"ticks\":\"\"},\"caxis\":{\"gridcolor\":\"white\",\"linecolor\":\"white\",\"ticks\":\"\"}},\"coloraxis\":{\"colorbar\":{\"outlinewidth\":0,\"ticks\":\"\"}},\"colorscale\":{\"sequential\":[[0.0,\"#0d0887\"],[0.1111111111111111,\"#46039f\"],[0.2222222222222222,\"#7201a8\"],[0.3333333333333333,\"#9c179e\"],[0.4444444444444444,\"#bd3786\"],[0.5555555555555556,\"#d8576b\"],[0.6666666666666666,\"#ed7953\"],[0.7777777777777778,\"#fb9f3a\"],[0.8888888888888888,\"#fdca26\"],[1.0,\"#f0f921\"]],\"sequentialminus\":[[0.0,\"#0d0887\"],[0.1111111111111111,\"#46039f\"],[0.2222222222222222,\"#7201a8\"],[0.3333333333333333,\"#9c179e\"],[0.4444444444444444,\"#bd3786\"],[0.5555555555555556,\"#d8576b\"],[0.6666666666666666,\"#ed7953\"],[0.7777777777777778,\"#fb9f3a\"],[0.8888888888888888,\"#fdca26\"],[1.0,\"#f0f921\"]],\"diverging\":[[0,\"#8e0152\"],[0.1,\"#c51b7d\"],[0.2,\"#de77ae\"],[0.3,\"#f1b6da\"],[0.4,\"#fde0ef\"],[0.5,\"#f7f7f7\"],[0.6,\"#e6f5d0\"],[0.7,\"#b8e186\"],[0.8,\"#7fbc41\"],[0.9,\"#4d9221\"],[1,\"#276419\"]]},\"xaxis\":{\"gridcolor\":\"white\",\"linecolor\":\"white\",\"ticks\":\"\",\"title\":{\"standoff\":15},\"zerolinecolor\":\"white\",\"automargin\":true,\"zerolinewidth\":2},\"yaxis\":{\"gridcolor\":\"white\",\"linecolor\":\"white\",\"ticks\":\"\",\"title\":{\"standoff\":15},\"zerolinecolor\":\"white\",\"automargin\":true,\"zerolinewidth\":2},\"scene\":{\"xaxis\":{\"backgroundcolor\":\"#E5ECF6\",\"gridcolor\":\"white\",\"linecolor\":\"white\",\"showbackground\":true,\"ticks\":\"\",\"zerolinecolor\":\"white\",\"gridwidth\":2},\"yaxis\":{\"backgroundcolor\":\"#E5ECF6\",\"gridcolor\":\"white\",\"linecolor\":\"white\",\"showbackground\":true,\"ticks\":\"\",\"zerolinecolor\":\"white\",\"gridwidth\":2},\"zaxis\":{\"backgroundcolor\":\"#E5ECF6\",\"gridcolor\":\"white\",\"linecolor\":\"white\",\"showbackground\":true,\"ticks\":\"\",\"zerolinecolor\":\"white\",\"gridwidth\":2}},\"shapedefaults\":{\"line\":{\"color\":\"#2a3f5f\"}},\"annotationdefaults\":{\"arrowcolor\":\"#2a3f5f\",\"arrowhead\":0,\"arrowwidth\":1},\"geo\":{\"bgcolor\":\"white\",\"landcolor\":\"#E5ECF6\",\"subunitcolor\":\"white\",\"showland\":true,\"showlakes\":true,\"lakecolor\":\"white\"},\"title\":{\"x\":0.05},\"mapbox\":{\"style\":\"light\"}}},\"barmode\":\"overlay\"},                        {\"responsive\": true}                    ).then(function(){\n",
              "                            \n",
              "var gd = document.getElementById('6c2e9ae3-0dbd-4546-9502-ed6a9349f267');\n",
              "var x = new MutationObserver(function (mutations, observer) {{\n",
              "        var display = window.getComputedStyle(gd).display;\n",
              "        if (!display || display === 'none') {{\n",
              "            console.log([gd, 'removed!']);\n",
              "            Plotly.purge(gd);\n",
              "            observer.disconnect();\n",
              "        }}\n",
              "}});\n",
              "\n",
              "// Listen for the removal of the full notebook cells\n",
              "var notebookContainer = gd.closest('#notebook-container');\n",
              "if (notebookContainer) {{\n",
              "    x.observe(notebookContainer, {childList: true});\n",
              "}}\n",
              "\n",
              "// Listen for the clearing of the current output cell\n",
              "var outputEl = gd.closest('.output');\n",
              "if (outputEl) {{\n",
              "    x.observe(outputEl, {childList: true});\n",
              "}}\n",
              "\n",
              "                        })                };                            </script>        </div>\n",
              "</body>\n",
              "</html>"
            ]
          },
          "metadata": {}
        }
      ]
    },
    {
      "cell_type": "markdown",
      "source": [
        "We can observe that the not flip pictures tend to have a lower blur level with respect to the flip pictures.\n",
        "\n",
        "Hopefully the model we are going to use will pick up this trend"
      ],
      "metadata": {
        "id": "RxLiNz8Le8_A"
      }
    },
    {
      "cell_type": "markdown",
      "source": [
        "# Models"
      ],
      "metadata": {
        "id": "dgYghNLK7kYx"
      }
    },
    {
      "cell_type": "markdown",
      "source": [
        "We are going to use a Convolutional Neural Network to perform the classification task.\n",
        "\n",
        "To implement the CNN, we are going to use PyTorch"
      ],
      "metadata": {
        "id": "G4lZdE_A7mH5"
      }
    },
    {
      "cell_type": "code",
      "source": [
        "from torch import nn\n",
        "from torch import flatten"
      ],
      "metadata": {
        "id": "ELxG2IPzfOcu"
      },
      "execution_count": 8,
      "outputs": []
    },
    {
      "cell_type": "markdown",
      "source": [
        "The basic model will be designed as follow:\n",
        "- Convolution layer, ReLU activations, Max pooling\n",
        "- Convolution layer, ReLU activations, Max pooling\n",
        "- Convolution layer, ReLU activations, Max pooling\n",
        "- Fully connected layer, ReLU activations\n",
        "- Fully connected layer, Sigmoid activation\n",
        "\n",
        "note that the first three blocks use the same kernels. The only difference between them is the input size (reducing) and the number of channels (increasing).\n",
        "We want to reduce the input size to force the network to condense information. We start from images that are 256x256 (which is a power of 2), so we can do max pooling with kernel 2x2 and stride (2,2) to half the size of the output at each step.\n",
        "\n",
        "More details:\n",
        "- The number of input channels of the first layer is **one** as we are working with gray scale images\n",
        "- We are going to use 3x3 kernels, because it's considered the optimal size\n",
        "- Since we are using 3x3 kernels, we need to remember to add **padding** in order to avoid information loss. (however, we can also consider that the main focus of the task, in this case, should be in the center of the image, so the border pixels are not very informative)\n",
        "\n",
        "\n",
        "Then, we are going to modify the model as follow:\n",
        "- Shallow model: we are reducing the number of convolutional layers from 3 to 2 (so remove 2 layers: conv and pooling). The idea behind this is to reduce the size of the network. However, the outcome is actually the opposite: indeed, the fully connected layer size explodes - increasing also the number of overall parameters\n",
        "- Small model: we take the shallow model, and reduce the conv layers size while increasing the number of channels. This leads to a smaller fully connected layer and a overall smaller model. Note that to reduce the layers size, we increased the size of the pooling kernel from 2x2 to 4x4. In order to avoid too much information loss, we move from a Max Pooling to an Avg Pooling.\n",
        "- Mini model: we start from the small model and further reduce the number of channels."
      ],
      "metadata": {
        "id": "3YZeOQXt8tHP"
      }
    },
    {
      "cell_type": "code",
      "source": [
        "class CNN(nn.Module):\n",
        "\n",
        "  def __init__(self):\n",
        "    super(CNN,self).__init__()\n",
        "    # initialize first set of CONV => RELU => POOL layers\n",
        "    # input: 256x256x1  output: 256x256x16\n",
        "    self.conv1 = nn.Conv2d(in_channels=1, out_channels=16, kernel_size=(3, 3), padding='same')\n",
        "    self.relu1 = nn.ReLU()\n",
        "    # input: 256x256x16  output 128x128x16\n",
        "    self.maxpool1 = nn.MaxPool2d(kernel_size=(2, 2), stride=(2, 2))\n",
        "\n",
        "    # initialize second set of CONV => RELU => POOL layers\n",
        "    # input: 128x128x16  output 128x128x32\n",
        "    self.conv2 = nn.Conv2d(in_channels=16, out_channels=32, kernel_size=(3, 3), padding='same')\n",
        "    self.relu2 = nn.ReLU()\n",
        "    # input: 128x128x32  output 64x64x32\n",
        "    self.maxpool2 = nn.MaxPool2d(kernel_size=(2, 2), stride=(2, 2))\n",
        "\n",
        "    # initialize third set of CONV => RELU => POOL layers\n",
        "    # input: 64x64x32  output 64x64x64\n",
        "    self.conv3 = nn.Conv2d(in_channels=32, out_channels=64, kernel_size=(3, 3), padding='same')\n",
        "    self.relu3 = nn.ReLU()\n",
        "    # input: 64x64x64  output 32x32x64\n",
        "    self.maxpool3 = nn.MaxPool2d(kernel_size=(2, 2), stride=(2, 2))\n",
        "\n",
        "    # initialize first (and only) set of FC => RELU layers\n",
        "    self.fc1 = nn.Linear(in_features=65536, out_features=1024)\n",
        "    self.relu4 = nn.ReLU()\n",
        "\n",
        "    # initialize the sigmoid\n",
        "    self.fc2 = nn.Linear(in_features=1024, out_features=1)\n",
        "    self.sigmoid = nn.Sigmoid()\n",
        "\n",
        "  # forward pass function\n",
        "  def forward(self, x):\n",
        "    # pass the input through our first set of CONV => RELU => POOL layers\n",
        "    x = self.conv1(x)\n",
        "    x = self.relu1(x)\n",
        "    x = self.maxpool1(x)\n",
        "\n",
        "    # pass the output from the previous layer through the second set of CONV => RELU => POOL layers\n",
        "    x = self.conv2(x)\n",
        "    x = self.relu2(x)\n",
        "    x = self.maxpool2(x)\n",
        "\n",
        "    # pass the output from the previous layer through the third set of CONV => RELU => POOL layers\n",
        "    x = self.conv3(x)\n",
        "    x = self.relu3(x)\n",
        "    x = self.maxpool3(x)\n",
        "\n",
        "    # flatten the output from the previous layer and pass it through the FC => RELU layer\n",
        "    x = flatten(x, 1)\n",
        "    x = self.fc1(x)\n",
        "    x = self.relu4(x)\n",
        "\n",
        "    # pass the output to the sigmoid function to get the output predictions\n",
        "    x = self.fc2(x)\n",
        "    output = self.sigmoid(x)\n",
        "    # return the output predictions\n",
        "    return output"
      ],
      "metadata": {
        "id": "x60MXavj8CdL"
      },
      "execution_count": 9,
      "outputs": []
    },
    {
      "cell_type": "markdown",
      "source": [
        "With the above model we obtained great results. Let's see if we can replicate, while reducing the number of layers."
      ],
      "metadata": {
        "id": "vflIO_ItgVdb"
      }
    },
    {
      "cell_type": "code",
      "source": [
        "class ShallowCNN(nn.Module):\n",
        "\n",
        "  def __init__(self):\n",
        "    super(ShallowCNN,self).__init__()\n",
        "    # initialize first set of CONV => RELU => POOL layers\n",
        "    # input: 256x256x1  output: 256x256x16\n",
        "    self.conv1 = nn.Conv2d(in_channels=1, out_channels=16, kernel_size=(3, 3), padding='same')\n",
        "    self.relu1 = nn.ReLU()\n",
        "    # input: 256x256x16  output 128x128x16\n",
        "    self.maxpool1 = nn.MaxPool2d(kernel_size=(2, 2), stride=(2, 2))\n",
        "\n",
        "    # initialize second set of CONV => RELU => POOL layers\n",
        "    # input: 128x128x16  output 128x128x32\n",
        "    self.conv2 = nn.Conv2d(in_channels=16, out_channels=32, kernel_size=(3, 3), padding='same')\n",
        "    self.relu2 = nn.ReLU()\n",
        "    # input: 128x128x32  output 64x64x32\n",
        "    self.maxpool2 = nn.MaxPool2d(kernel_size=(2, 2), stride=(2, 2))\n",
        "\n",
        "    # initialize first (and only) set of FC => RELU layers\n",
        "    self.fc1 = nn.Linear(in_features=131072, out_features=1024)\n",
        "    self.relu3 = nn.ReLU()\n",
        "\n",
        "    # initialize the sigmoid\n",
        "    self.fc2 = nn.Linear(in_features=1024, out_features=1)\n",
        "    self.sigmoid = nn.Sigmoid()\n",
        "\n",
        "  # forward pass function\n",
        "  def forward(self, x):\n",
        "    # pass the input through our first set of CONV => RELU => POOL layers\n",
        "    x = self.conv1(x)\n",
        "    x = self.relu1(x)\n",
        "    x = self.maxpool1(x)\n",
        "\n",
        "    # pass the output from the previous layer through the second set of CONV => RELU => POOL layers\n",
        "    x = self.conv2(x)\n",
        "    x = self.relu2(x)\n",
        "    x = self.maxpool2(x)\n",
        "\n",
        "    # flatten the output from the previous layer and pass it through the FC => RELU layer\n",
        "    x = flatten(x, 1)\n",
        "    x = self.fc1(x)\n",
        "    x = self.relu3(x)\n",
        "\n",
        "    # pass the output to the sigmoid function to get the output predictions\n",
        "    x = self.fc2(x)\n",
        "    output = self.sigmoid(x)\n",
        "    # return the output predictions\n",
        "    return output"
      ],
      "metadata": {
        "id": "q2Eu63pAgVFm"
      },
      "execution_count": null,
      "outputs": []
    },
    {
      "cell_type": "code",
      "source": [
        "class SmallCNN(nn.Module):\n",
        "\n",
        "  def __init__(self):\n",
        "    super(SmallCNN,self).__init__()\n",
        "    # initialize first set of CONV => RELU => POOL layers\n",
        "    # input: 256x256x1  output: 256x256x32\n",
        "    self.conv1 = nn.Conv2d(in_channels=1, out_channels=32, kernel_size=(3, 3), padding='same')\n",
        "    self.relu1 = nn.ReLU()\n",
        "    # input: 256x256x32  output 64x64x32\n",
        "    self.maxpool1 = nn.AvgPool2d(kernel_size=(4, 4), stride=(4, 4))\n",
        "\n",
        "    # initialize second set of CONV => RELU => POOL layers\n",
        "    # input: 64x64x32  output 64x64x64\n",
        "    self.conv2 = nn.Conv2d(in_channels=32, out_channels=64, kernel_size=(3, 3), padding='same')\n",
        "    self.relu2 = nn.ReLU()\n",
        "    # input: 64x64x64  output 16x16x64\n",
        "    self.maxpool2 = nn.MaxPool2d(kernel_size=(4, 4), stride=(4, 4))\n",
        "\n",
        "    # initialize first (and only) set of FC => RELU layers\n",
        "    self.fc1 = nn.Linear(in_features=16384, out_features=1024)\n",
        "    self.relu3 = nn.ReLU()\n",
        "\n",
        "    # initialize the sigmoid\n",
        "    self.fc2 = nn.Linear(in_features=1024, out_features=1)\n",
        "    self.sigmoid = nn.Sigmoid()\n",
        "\n",
        "  # forward pass function\n",
        "  def forward(self, x):\n",
        "    # pass the input through our first set of CONV => RELU => POOL layers\n",
        "    x = self.conv1(x)\n",
        "    x = self.relu1(x)\n",
        "    x = self.maxpool1(x)\n",
        "\n",
        "    # pass the output from the previous layer through the second set of CONV => RELU => POOL layers\n",
        "    x = self.conv2(x)\n",
        "    x = self.relu2(x)\n",
        "    x = self.maxpool2(x)\n",
        "\n",
        "    # flatten the output from the previous layer and pass it through the FC => RELU layer\n",
        "    x = flatten(x, 1)\n",
        "    x = self.fc1(x)\n",
        "    x = self.relu3(x)\n",
        "\n",
        "    # pass the output to the sigmoid function to get the output predictions\n",
        "    x = self.fc2(x)\n",
        "    output = self.sigmoid(x)\n",
        "    # return the output predictions\n",
        "    return output"
      ],
      "metadata": {
        "id": "REM9aWk_ie9p"
      },
      "execution_count": 10,
      "outputs": []
    },
    {
      "cell_type": "code",
      "source": [
        "class MiniCNN(nn.Module):\n",
        "\n",
        "  def __init__(self):\n",
        "    super(MiniCNN,self).__init__()\n",
        "    # initialize first set of CONV => RELU => POOL layers\n",
        "    # input: 256x256x1  output: 256x256x16\n",
        "    self.conv1 = nn.Conv2d(in_channels=1, out_channels=16, kernel_size=(3, 3), padding='same')\n",
        "    self.relu1 = nn.ReLU()\n",
        "    # input: 256x256x16  output 64x64x16\n",
        "    self.maxpool1 = nn.AvgPool2d(kernel_size=(4, 4), stride=(4, 4))\n",
        "\n",
        "    # initialize second set of CONV => RELU => POOL layers\n",
        "    # input: 64x64x16  output 64x64x32\n",
        "    self.conv2 = nn.Conv2d(in_channels=16, out_channels=32, kernel_size=(3, 3), padding='same')\n",
        "    self.relu2 = nn.ReLU()\n",
        "    # input: 64x64x32  output 16x16x32\n",
        "    self.maxpool2 = nn.MaxPool2d(kernel_size=(4, 4), stride=(4, 4))\n",
        "\n",
        "    # initialize first (and only) set of FC => RELU layers\n",
        "    self.fc1 = nn.Linear(in_features=8192, out_features=512)\n",
        "    self.relu3 = nn.ReLU()\n",
        "\n",
        "    # initialize the sigmoid\n",
        "    self.fc2 = nn.Linear(in_features=512, out_features=1)\n",
        "    self.sigmoid = nn.Sigmoid()\n",
        "\n",
        "  # forward pass function\n",
        "  def forward(self, x):\n",
        "    # pass the input through our first set of CONV => RELU => POOL layers\n",
        "    x = self.conv1(x)\n",
        "    x = self.relu1(x)\n",
        "    x = self.maxpool1(x)\n",
        "\n",
        "    # pass the output from the previous layer through the second set of CONV => RELU => POOL layers\n",
        "    x = self.conv2(x)\n",
        "    x = self.relu2(x)\n",
        "    x = self.maxpool2(x)\n",
        "\n",
        "    # flatten the output from the previous layer and pass it through the FC => RELU layer\n",
        "    x = flatten(x, 1)\n",
        "    x = self.fc1(x)\n",
        "    x = self.relu3(x)\n",
        "\n",
        "    # pass the output to the sigmoid function to get the output predictions\n",
        "    x = self.fc2(x)\n",
        "    output = self.sigmoid(x)\n",
        "    # return the output predictions\n",
        "    return output"
      ],
      "metadata": {
        "id": "rdB5vthukTcp"
      },
      "execution_count": null,
      "outputs": []
    },
    {
      "cell_type": "markdown",
      "source": [
        "# Load and prepare data"
      ],
      "metadata": {
        "id": "2K6S2hXSktgE"
      }
    },
    {
      "cell_type": "markdown",
      "source": [
        "Now that we created the network, let's train it"
      ],
      "metadata": {
        "id": "33u37uJtCoPA"
      }
    },
    {
      "cell_type": "code",
      "source": [
        "from torch.utils.data import TensorDataset, DataLoader\n",
        "from torch.optim import Adam\n",
        "import torch"
      ],
      "metadata": {
        "id": "g1Tg6732Cnfm"
      },
      "execution_count": 4,
      "outputs": []
    },
    {
      "cell_type": "code",
      "source": [
        "# define training hyperparameters\n",
        "INIT_LR = 0.0001\n",
        "BATCH_SIZE = 64\n",
        "EPOCHS = 15"
      ],
      "metadata": {
        "id": "o_Hbdb8eDsMA"
      },
      "execution_count": 7,
      "outputs": []
    },
    {
      "cell_type": "markdown",
      "source": [
        "We might use Google Colab GPU/TPU if we notice that training is too long"
      ],
      "metadata": {
        "id": "8Vp1prwODwYm"
      }
    },
    {
      "cell_type": "code",
      "source": [
        "device = torch.device(\"cuda:0\" if torch.cuda.is_available() else \"cpu\")"
      ],
      "metadata": {
        "id": "APV1wNR9ENtj"
      },
      "execution_count": null,
      "outputs": []
    },
    {
      "cell_type": "markdown",
      "source": [
        "Load the data from the pickle files and then create the torch data loaders"
      ],
      "metadata": {
        "id": "0m_NIlK4F3AG"
      }
    },
    {
      "cell_type": "code",
      "source": [
        "with open('/content/gdrive/MyDrive/P4_files/training_img.pkl', 'rb') as handle:\n",
        "  training_X = np.array(pickle.load(handle))\n",
        "\n",
        "with open('/content/gdrive/MyDrive/P4_files/training_labels.pkl', 'rb') as handle:\n",
        "  training_y = np.array(pickle.load(handle))\n",
        "\n",
        "with open('/content/gdrive/MyDrive/P4_files/test_img.pkl', 'rb') as handle:\n",
        "  test_X = np.array(pickle.load(handle))\n",
        "\n",
        "with open('/content/gdrive/MyDrive/P4_files/test_labels.pkl', 'rb') as handle:\n",
        "  test_y = np.array(pickle.load(handle))"
      ],
      "metadata": {
        "id": "nrZZmzFbPddR"
      },
      "execution_count": 5,
      "outputs": []
    },
    {
      "cell_type": "code",
      "source": [
        "img_cvt = test_X[10]\n",
        "\n",
        "plt.imshow(img_cvt, cmap='gray')\n",
        "plt.show()"
      ],
      "metadata": {
        "colab": {
          "base_uri": "https://localhost:8080/",
          "height": 435
        },
        "id": "9iRQmg12kjIn",
        "outputId": "97773090-57ba-4bd2-c097-55e8c344515e"
      },
      "execution_count": null,
      "outputs": [
        {
          "output_type": "display_data",
          "data": {
            "text/plain": [
              "<Figure size 640x480 with 1 Axes>"
            ],
            "image/png": "[encoded data removed]"
          },
          "metadata": {}
        }
      ]
    },
    {
      "cell_type": "markdown",
      "source": [
        "Once we create the tensor, we normalize them.\n",
        "Note that to normalize we divide by 255, since the original values were 8-bits based.\n",
        "\n",
        "Also note that we perform the normalizatio now, and not when we created the dataset (pickle files) because a float number occupies more memory than a uint8"
      ],
      "metadata": {
        "id": "JAZwHAj9HMUG"
      }
    },
    {
      "cell_type": "code",
      "source": [
        "# transform to torch tensor\n",
        "training_X = torch.Tensor(training_X)\n",
        "training_y = torch.Tensor(training_y)\n",
        "test_X = torch.Tensor(test_X)\n",
        "test_y = torch.Tensor(test_y)\n",
        "\n",
        "# perform the normalization\n",
        "training_X /= 255.0\n",
        "test_X /= 255.0\n",
        "\n",
        "# create the datasets as Torch likes them\n",
        "train_dataset = TensorDataset(training_X, training_y)\n",
        "test_dataset = TensorDataset(test_X, test_y)\n",
        "\n",
        "train_data_loader = DataLoader(train_dataset, shuffle=True, batch_size=BATCH_SIZE)\n",
        "test_data_loader = DataLoader(test_dataset, batch_size=BATCH_SIZE)"
      ],
      "metadata": {
        "id": "jqxmtCS2EsfM"
      },
      "execution_count": 8,
      "outputs": []
    },
    {
      "cell_type": "markdown",
      "source": [
        "# Initialization and run"
      ],
      "metadata": {
        "id": "8zTtjz4lkxkA"
      }
    },
    {
      "cell_type": "markdown",
      "source": [
        "Initialize\n",
        "- the model\n",
        "- the loss function: it's a binary classification problem, so we are using the Binary Classification Error loss function\n",
        "- the optimizer: we could use SGD (I know how it works), but we are going to use Adam, which is the best performing optimizer"
      ],
      "metadata": {
        "id": "R6kTmpDFF-nE"
      }
    },
    {
      "cell_type": "code",
      "source": [
        "# model = CNN()                     # CPU\n",
        "# model = CNN().to(device)          # GPU\n",
        "# model = ShallowCNN().to(device)   # GPU\n",
        "# model = SmallCNN().to(device)     # GPU\n",
        "model = MiniCNN().to(device)        # GPU\n",
        "loss_fn = nn.BCELoss()\n",
        "opt = Adam(model.parameters(), lr=INIT_LR)"
      ],
      "metadata": {
        "id": "5fufZqzPF9QI"
      },
      "execution_count": null,
      "outputs": []
    },
    {
      "cell_type": "markdown",
      "source": [
        "Now we peform the actual training"
      ],
      "metadata": {
        "id": "pyTlatcrHBFG"
      }
    },
    {
      "cell_type": "code",
      "source": [
        "# initialize a dictionary to store training history\n",
        "H = {\n",
        "\t\"train_loss\": [],\n",
        "\t\"train_acc\": [],\n",
        "  \"train_precision\": [],\n",
        "  \"train_recall\": [],\n",
        "  \"train_f1\": [],\n",
        "\t\"test_loss\": [],\n",
        "\t\"test_acc\": [],\n",
        "  \"test_precision\": [],\n",
        "  \"test_recall\": [],\n",
        "  \"test_f1\": []\n",
        "}\n",
        "\n",
        "n_train_sample = training_X.shape[0]\n",
        "n_test_sample = test_X.shape[0]\n",
        "\n",
        "\n",
        "# loop over our epochs\n",
        "for e in range(0, EPOCHS):\n",
        "\n",
        "  # set the model in training mode -> the computational graphs are saved to be used in backprop\n",
        "  model.train()\n",
        "\n",
        "  # initialize the total training and test loss -> it will be used to compute the average epoch values\n",
        "  total_train_loss = 0\n",
        "  total_test_loss = 0\n",
        "\n",
        "  # initialize the number of correct predictions in the training and test step -> used to compute accuracy\n",
        "  train_correct = 0\n",
        "  test_correct = 0\n",
        "\n",
        "  # initialize the count of positive to compute the F1 score\n",
        "  train_n_true_pos = 0\n",
        "  train_n_pos = 0\n",
        "  train_n_gt_pos = 0\n",
        "  test_n_true_pos = 0\n",
        "  test_n_pos = 0\n",
        "  test_n_gt_pos = 0\n",
        "\n",
        "  # loop over the training set\n",
        "  for (x, y) in train_data_loader:\n",
        "\n",
        "    (x, y) = (x.to(device), y.to(device))\n",
        "    # zero out the gradients\n",
        "    opt.zero_grad()\n",
        "\n",
        "    x = torch.reshape(x, (-1, 1, 256, 256))\n",
        "    # perform a forward pass and calculate the training loss\n",
        "    pred = model(x)\n",
        "    pred = torch.reshape(pred, (-1,))\n",
        "    loss = loss_fn(pred, y)\n",
        "    # perform the backpropagation step, and update the weights\n",
        "    loss.backward()\n",
        "    opt.step()\n",
        "\n",
        "    # Compute the components for the F1 score\n",
        "    correct_pred = (torch.round(pred) == y)\n",
        "    train_n_true_pos += (torch.round(pred[correct_pred]) == 1).type(torch.float).sum().item()  # number of true positive\n",
        "    train_n_pos += (torch.round(pred) == 1).type(torch.float).sum().item()                     # number of predicted positive\n",
        "    train_n_gt_pos += (y == 1).type(torch.float).sum().item()                                  # number of expected positive\n",
        "\n",
        "    n_correct = correct_pred.type(torch.float).sum().item()\n",
        "\n",
        "    # compute the performance metrics\n",
        "    total_train_loss += loss\n",
        "    train_correct += n_correct\n",
        "\n",
        "\n",
        "  # switch off autograd for evaluation\n",
        "  with torch.no_grad():\n",
        "\n",
        "    # set the model in evaluation mode\n",
        "    model.eval()\n",
        "\n",
        "    for (x, y) in test_data_loader:\n",
        "\n",
        "      (x, y) = (x.to(device), y.to(device))\n",
        "\n",
        "      x = torch.reshape(x, (-1, 1, 256, 256))\n",
        "      # make the predictions and calculate the validation loss\n",
        "      pred = model(x)\n",
        "      pred = torch.reshape(pred, (-1,))\n",
        "\n",
        "      loss = loss_fn(pred, y)\n",
        "\n",
        "      # Compute the components for the F1 score\n",
        "      correct_pred = (torch.round(pred) == y)\n",
        "      test_n_true_pos += (torch.round(pred[correct_pred]) == 1).type(torch.float).sum().item()  # number of true positive\n",
        "      test_n_pos += (torch.round(pred) == 1).type(torch.float).sum().item()                     # number of predicted positive\n",
        "      test_n_gt_pos += (y == 1).type(torch.float).sum().item()                                  # number of expected positive\n",
        "\n",
        "      n_correct = correct_pred.type(torch.float).sum().item()\n",
        "\n",
        "      # compute the performance metrics\n",
        "      total_test_loss += loss\n",
        "      test_correct += n_correct\n",
        "\n",
        "  # update our training history\n",
        "  H[\"train_loss\"].append(total_train_loss.cpu().detach().numpy() / n_train_sample)\n",
        "  H[\"train_acc\"].append(train_correct / n_train_sample)\n",
        "  train_prec = train_n_true_pos / train_n_pos\n",
        "  H[\"train_precision\"].append(train_prec)\n",
        "  train_recall = train_n_true_pos / train_n_gt_pos\n",
        "  H[\"train_recall\"].append(train_recall)\n",
        "  H[\"train_f1\"].append(2*(train_prec * train_recall) / (train_prec + train_recall))\n",
        "\n",
        "  H[\"test_loss\"].append(total_test_loss.cpu().detach().numpy() / n_test_sample)\n",
        "  H[\"test_acc\"].append(test_correct / n_test_sample)\n",
        "  test_prec = test_n_true_pos / test_n_pos\n",
        "  H[\"test_precision\"].append(test_prec)\n",
        "  test_recall = test_n_true_pos / test_n_gt_pos\n",
        "  H[\"test_recall\"].append(test_recall)\n",
        "  H[\"test_f1\"].append(2*(test_prec * test_recall) / (test_prec + test_recall))\n",
        "\n",
        "  # print the model training and validation information\n",
        "  print(\"[INFO] EPOCH: {}/{}\".format(e + 1, EPOCHS))\n",
        "  print(\"Train loss: {:.4f}, Train correct: {:.2f} %\".format(total_train_loss / n_train_sample *100, train_correct / n_train_sample * 100))\n",
        "  print(\"Train precision: {:.4f}, Train recall: {:.4f},  Train F1 score: {:.4f}\".format(train_prec, train_recall, H[\"train_f1\"][-1]))\n",
        "  print(\"Test loss: {:.4f}, Test correct: {:.2f} %\".format(total_test_loss / n_test_sample*100, test_correct / n_test_sample* 100))\n",
        "  print(\"Test precision: {:.4f}, Test recall: {:.4f},  Test F1 score: {:.4f}\\n\".format(test_prec, test_recall, H[\"test_f1\"][-1]))\n"
      ],
      "metadata": {
        "colab": {
          "base_uri": "https://localhost:8080/"
        },
        "id": "cQWW63CFHDZP",
        "outputId": "f714e995-cecb-4c20-9065-4ddbdb398783"
      },
      "execution_count": null,
      "outputs": [
        {
          "output_type": "stream",
          "name": "stdout",
          "text": [
            "[INFO] EPOCH: 1/15\n",
            "Train loss: 1.0818, Train correct: 57.15 %\n",
            "Train precision: 0.6310, Train recall: 0.2840,  Train F1 score: 0.3917\n",
            "Test loss: 1.0953, Test correct: 75.54 %\n",
            "Test precision: 0.7835, Test recall: 0.6862,  Test F1 score: 0.7316\n",
            "\n",
            "[INFO] EPOCH: 2/15\n",
            "Train loss: 0.9880, Train correct: 72.41 %\n",
            "Train precision: 0.7515, Train recall: 0.6454,  Train F1 score: 0.6944\n",
            "Test loss: 0.9569, Test correct: 73.87 %\n",
            "Test precision: 0.8895, Test recall: 0.5276,  Test F1 score: 0.6623\n",
            "\n",
            "[INFO] EPOCH: 3/15\n",
            "Train loss: 0.8780, Train correct: 74.67 %\n",
            "Train precision: 0.7932, Train recall: 0.6472,  Train F1 score: 0.7128\n",
            "Test loss: 0.8675, Test correct: 78.22 %\n",
            "Test precision: 0.7740, Test recall: 0.7793,  Test F1 score: 0.7766\n",
            "\n",
            "[INFO] EPOCH: 4/15\n",
            "Train loss: 0.7996, Train correct: 77.55 %\n",
            "Train precision: 0.8128, Train recall: 0.6988,  Train F1 score: 0.7515\n",
            "Test loss: 0.7871, Test correct: 79.73 %\n",
            "Test precision: 0.8596, Test recall: 0.6966,  Test F1 score: 0.7695\n",
            "\n",
            "[INFO] EPOCH: 5/15\n",
            "Train loss: 0.7326, Train correct: 79.47 %\n",
            "Train precision: 0.8273, Train recall: 0.7298,  Train F1 score: 0.7755\n",
            "Test loss: 0.7456, Test correct: 82.24 %\n",
            "Test precision: 0.8129, Test recall: 0.8241,  Test F1 score: 0.8185\n",
            "\n",
            "[INFO] EPOCH: 6/15\n",
            "Train loss: 0.6603, Train correct: 82.19 %\n",
            "Train precision: 0.8498, Train recall: 0.7694,  Train F1 score: 0.8076\n",
            "Test loss: 0.6708, Test correct: 84.25 %\n",
            "Test precision: 0.8858, Test recall: 0.7759,  Test F1 score: 0.8272\n",
            "\n",
            "[INFO] EPOCH: 7/15\n",
            "Train loss: 0.5897, Train correct: 85.91 %\n",
            "Train precision: 0.8809, Train recall: 0.8210,  Train F1 score: 0.8499\n",
            "Test loss: 0.6150, Test correct: 86.60 %\n",
            "Test precision: 0.9038, Test recall: 0.8103,  Test F1 score: 0.8545\n",
            "\n",
            "[INFO] EPOCH: 8/15\n",
            "Train loss: 0.5406, Train correct: 86.54 %\n",
            "Train precision: 0.8875, Train recall: 0.8279,  Train F1 score: 0.8566\n",
            "Test loss: 0.5715, Test correct: 88.11 %\n",
            "Test precision: 0.9071, Test recall: 0.8414,  Test F1 score: 0.8730\n",
            "\n",
            "[INFO] EPOCH: 9/15\n",
            "Train loss: 0.4848, Train correct: 89.46 %\n",
            "Train precision: 0.9205, Train recall: 0.8571,  Train F1 score: 0.8877\n",
            "Test loss: 0.5752, Test correct: 85.76 %\n",
            "Test precision: 0.8193, Test recall: 0.9069,  Test F1 score: 0.8609\n",
            "\n",
            "[INFO] EPOCH: 10/15\n",
            "Train loss: 0.4451, Train correct: 90.05 %\n",
            "Train precision: 0.9110, Train recall: 0.8812,  Train F1 score: 0.8959\n",
            "Test loss: 0.5121, Test correct: 88.78 %\n",
            "Test precision: 0.8912, Test recall: 0.8759,  Test F1 score: 0.8835\n",
            "\n",
            "[INFO] EPOCH: 11/15\n",
            "Train loss: 0.4066, Train correct: 91.43 %\n",
            "Train precision: 0.9269, Train recall: 0.8941,  Train F1 score: 0.9102\n",
            "Test loss: 0.4866, Test correct: 87.94 %\n",
            "Test precision: 0.9098, Test recall: 0.8345,  Test F1 score: 0.8705\n",
            "\n",
            "[INFO] EPOCH: 12/15\n",
            "Train loss: 0.3866, Train correct: 91.35 %\n",
            "Train precision: 0.9313, Train recall: 0.8873,  Train F1 score: 0.9088\n",
            "Test loss: 0.4756, Test correct: 89.11 %\n",
            "Test precision: 0.8763, Test recall: 0.9034,  Test F1 score: 0.8896\n",
            "\n",
            "[INFO] EPOCH: 13/15\n",
            "Train loss: 0.3662, Train correct: 91.93 %\n",
            "Train precision: 0.9291, Train recall: 0.9028,  Train F1 score: 0.9158\n",
            "Test loss: 0.4594, Test correct: 89.61 %\n",
            "Test precision: 0.8800, Test recall: 0.9103,  Test F1 score: 0.8949\n",
            "\n",
            "[INFO] EPOCH: 14/15\n",
            "Train loss: 0.3331, Train correct: 92.85 %\n",
            "Train precision: 0.9358, Train recall: 0.9157,  Train F1 score: 0.9256\n",
            "Test loss: 0.4280, Test correct: 89.61 %\n",
            "Test precision: 0.9043, Test recall: 0.8793,  Test F1 score: 0.8916\n",
            "\n",
            "[INFO] EPOCH: 15/15\n",
            "Train loss: 0.3201, Train correct: 92.93 %\n",
            "Train precision: 0.9336, Train recall: 0.9200,  Train F1 score: 0.9267\n",
            "Test loss: 0.4619, Test correct: 88.78 %\n",
            "Test precision: 0.8474, Test recall: 0.9379,  Test F1 score: 0.8903\n",
            "\n"
          ]
        }
      ]
    },
    {
      "cell_type": "code",
      "source": [
        "torch.save(model.state_dict(), '/content/gdrive/MyDrive/P4_files/trained_model_mini.pkl')"
      ],
      "metadata": {
        "id": "Ho2ikDbwI-zE"
      },
      "execution_count": null,
      "outputs": []
    },
    {
      "cell_type": "code",
      "source": [
        "with open('/content/gdrive/MyDrive/P4_files/performance_mini.pkl', 'wb') as handle:\n",
        "  pickle.dump(H, handle, protocol=-1)"
      ],
      "metadata": {
        "id": "vAUMk-9jZZis"
      },
      "execution_count": null,
      "outputs": []
    },
    {
      "cell_type": "markdown",
      "source": [
        "# Results"
      ],
      "metadata": {
        "id": "eHqrOn-DNySC"
      }
    },
    {
      "cell_type": "code",
      "source": [
        "with open('/content/gdrive/MyDrive/P4_files/performance_mini.pkl', 'rb') as handle:\n",
        " perform = pickle.load(handle)"
      ],
      "metadata": {
        "id": "Kw1BqrnGN52D"
      },
      "execution_count": null,
      "outputs": []
    },
    {
      "cell_type": "code",
      "source": [
        "results = pd.DataFrame(perform)\n",
        "results['epochs'] = range(1, EPOCHS +1)"
      ],
      "metadata": {
        "id": "f4NT4wuQU7Yc"
      },
      "execution_count": null,
      "outputs": []
    },
    {
      "cell_type": "code",
      "source": [
        "fig = px.line(results, x='epochs', y=['train_loss', 'test_loss'], title='Average Binary Classification Entropy loss')\n",
        "fig.update_layout(yaxis_range=[0, 0.011])\n",
        "fig.update_xaxes(dtick=1)"
      ],
      "metadata": {
        "colab": {
          "base_uri": "https://localhost:8080/",
          "height": 542
        },
        "id": "EhwxCwfRVbSJ",
        "outputId": "28f39071-d22d-46dc-b2de-245fb5b79c87"
      },
      "execution_count": null,
      "outputs": [
        {
          "output_type": "display_data",
          "data": {
            "text/html": [
              "<html>\n",
              "<head><meta charset=\"utf-8\" /></head>\n",
              "<body>\n",
              "    <div>            <script src=\"https://cdnjs.cloudflare.com/ajax/libs/mathjax/2.7.5/MathJax.js?config=TeX-AMS-MML_SVG\"></script><script type=\"text/javascript\">if (window.MathJax && window.MathJax.Hub && window.MathJax.Hub.Config) {window.MathJax.Hub.Config({SVG: {font: \"STIX-Web\"}});}</script>                <script type=\"text/javascript\">window.PlotlyConfig = {MathJaxConfig: 'local'};</script>\n",
              "        <script src=\"https://cdn.plot.ly/plotly-2.18.2.min.js\"></script>                <div id=\"01e6fdb9-da0a-44e4-bc9c-4f2b0ba3c021\" class=\"plotly-graph-div\" style=\"height:525px; width:100%;\"></div>            <script type=\"text/javascript\">                                    window.PLOTLYENV=window.PLOTLYENV || {};                                    if (document.getElementById(\"01e6fdb9-da0a-44e4-bc9c-4f2b0ba3c021\")) {                    Plotly.newPlot(                        \"01e6fdb9-da0a-44e4-bc9c-4f2b0ba3c021\",                        [{\"hovertemplate\":\"variable=train_loss<br>epochs=%{x}<br>value=%{y}<extra></extra>\",\"legendgroup\":\"train_loss\",\"line\":{\"color\":\"#636efa\",\"dash\":\"solid\"},\"marker\":{\"symbol\":\"circle\"},\"mode\":\"lines\",\"name\":\"train_loss\",\"orientation\":\"v\",\"showlegend\":true,\"x\":[1,2,3,4,5,6,7,8,9,10,11,12,13,14,15],\"xaxis\":\"x\",\"y\":[0.010817601927945446,0.00988023097698505,0.008780498568429596,0.007995796841522523,0.007325764085138123,0.0066030930515914455,0.0058971468022834496,0.005405544437293624,0.004848478231142994,0.004450792851655379,0.004065689434574599,0.003866184515299207,0.003662207453545918,0.0033310950799131872,0.0032005648947878427],\"yaxis\":\"y\",\"type\":\"scatter\"},{\"hovertemplate\":\"variable=test_loss<br>epochs=%{x}<br>value=%{y}<extra></extra>\",\"legendgroup\":\"test_loss\",\"line\":{\"color\":\"#EF553B\",\"dash\":\"solid\"},\"marker\":{\"symbol\":\"circle\"},\"mode\":\"lines\",\"name\":\"test_loss\",\"orientation\":\"v\",\"showlegend\":true,\"x\":[1,2,3,4,5,6,7,8,9,10,11,12,13,14,15],\"xaxis\":\"x\",\"y\":[0.010953295370641864,0.009569497963092236,0.008674516150699788,0.007871072695682596,0.007456063026159852,0.0067076866750541446,0.006150049180840727,0.005714604203625141,0.005751601815024013,0.005121163587074983,0.004866123998185099,0.004755524934037047,0.004594374341980696,0.004280015651504798,0.004619075624986709],\"yaxis\":\"y\",\"type\":\"scatter\"}],                        {\"template\":{\"data\":{\"histogram2dcontour\":[{\"type\":\"histogram2dcontour\",\"colorbar\":{\"outlinewidth\":0,\"ticks\":\"\"},\"colorscale\":[[0.0,\"#0d0887\"],[0.1111111111111111,\"#46039f\"],[0.2222222222222222,\"#7201a8\"],[0.3333333333333333,\"#9c179e\"],[0.4444444444444444,\"#bd3786\"],[0.5555555555555556,\"#d8576b\"],[0.6666666666666666,\"#ed7953\"],[0.7777777777777778,\"#fb9f3a\"],[0.8888888888888888,\"#fdca26\"],[1.0,\"#f0f921\"]]}],\"choropleth\":[{\"type\":\"choropleth\",\"colorbar\":{\"outlinewidth\":0,\"ticks\":\"\"}}],\"histogram2d\":[{\"type\":\"histogram2d\",\"colorbar\":{\"outlinewidth\":0,\"ticks\":\"\"},\"colorscale\":[[0.0,\"#0d0887\"],[0.1111111111111111,\"#46039f\"],[0.2222222222222222,\"#7201a8\"],[0.3333333333333333,\"#9c179e\"],[0.4444444444444444,\"#bd3786\"],[0.5555555555555556,\"#d8576b\"],[0.6666666666666666,\"#ed7953\"],[0.7777777777777778,\"#fb9f3a\"],[0.8888888888888888,\"#fdca26\"],[1.0,\"#f0f921\"]]}],\"heatmap\":[{\"type\":\"heatmap\",\"colorbar\":{\"outlinewidth\":0,\"ticks\":\"\"},\"colorscale\":[[0.0,\"#0d0887\"],[0.1111111111111111,\"#46039f\"],[0.2222222222222222,\"#7201a8\"],[0.3333333333333333,\"#9c179e\"],[0.4444444444444444,\"#bd3786\"],[0.5555555555555556,\"#d8576b\"],[0.6666666666666666,\"#ed7953\"],[0.7777777777777778,\"#fb9f3a\"],[0.8888888888888888,\"#fdca26\"],[1.0,\"#f0f921\"]]}],\"heatmapgl\":[{\"type\":\"heatmapgl\",\"colorbar\":{\"outlinewidth\":0,\"ticks\":\"\"},\"colorscale\":[[0.0,\"#0d0887\"],[0.1111111111111111,\"#46039f\"],[0.2222222222222222,\"#7201a8\"],[0.3333333333333333,\"#9c179e\"],[0.4444444444444444,\"#bd3786\"],[0.5555555555555556,\"#d8576b\"],[0.6666666666666666,\"#ed7953\"],[0.7777777777777778,\"#fb9f3a\"],[0.8888888888888888,\"#fdca26\"],[1.0,\"#f0f921\"]]}],\"contourcarpet\":[{\"type\":\"contourcarpet\",\"colorbar\":{\"outlinewidth\":0,\"ticks\":\"\"}}],\"contour\":[{\"type\":\"contour\",\"colorbar\":{\"outlinewidth\":0,\"ticks\":\"\"},\"colorscale\":[[0.0,\"#0d0887\"],[0.1111111111111111,\"#46039f\"],[0.2222222222222222,\"#7201a8\"],[0.3333333333333333,\"#9c179e\"],[0.4444444444444444,\"#bd3786\"],[0.5555555555555556,\"#d8576b\"],[0.6666666666666666,\"#ed7953\"],[0.7777777777777778,\"#fb9f3a\"],[0.8888888888888888,\"#fdca26\"],[1.0,\"#f0f921\"]]}],\"surface\":[{\"type\":\"surface\",\"colorbar\":{\"outlinewidth\":0,\"ticks\":\"\"},\"colorscale\":[[0.0,\"#0d0887\"],[0.1111111111111111,\"#46039f\"],[0.2222222222222222,\"#7201a8\"],[0.3333333333333333,\"#9c179e\"],[0.4444444444444444,\"#bd3786\"],[0.5555555555555556,\"#d8576b\"],[0.6666666666666666,\"#ed7953\"],[0.7777777777777778,\"#fb9f3a\"],[0.8888888888888888,\"#fdca26\"],[1.0,\"#f0f921\"]]}],\"mesh3d\":[{\"type\":\"mesh3d\",\"colorbar\":{\"outlinewidth\":0,\"ticks\":\"\"}}],\"scatter\":[{\"fillpattern\":{\"fillmode\":\"overlay\",\"size\":10,\"solidity\":0.2},\"type\":\"scatter\"}],\"parcoords\":[{\"type\":\"parcoords\",\"line\":{\"colorbar\":{\"outlinewidth\":0,\"ticks\":\"\"}}}],\"scatterpolargl\":[{\"type\":\"scatterpolargl\",\"marker\":{\"colorbar\":{\"outlinewidth\":0,\"ticks\":\"\"}}}],\"bar\":[{\"error_x\":{\"color\":\"#2a3f5f\"},\"error_y\":{\"color\":\"#2a3f5f\"},\"marker\":{\"line\":{\"color\":\"#E5ECF6\",\"width\":0.5},\"pattern\":{\"fillmode\":\"overlay\",\"size\":10,\"solidity\":0.2}},\"type\":\"bar\"}],\"scattergeo\":[{\"type\":\"scattergeo\",\"marker\":{\"colorbar\":{\"outlinewidth\":0,\"ticks\":\"\"}}}],\"scatterpolar\":[{\"type\":\"scatterpolar\",\"marker\":{\"colorbar\":{\"outlinewidth\":0,\"ticks\":\"\"}}}],\"histogram\":[{\"marker\":{\"pattern\":{\"fillmode\":\"overlay\",\"size\":10,\"solidity\":0.2}},\"type\":\"histogram\"}],\"scattergl\":[{\"type\":\"scattergl\",\"marker\":{\"colorbar\":{\"outlinewidth\":0,\"ticks\":\"\"}}}],\"scatter3d\":[{\"type\":\"scatter3d\",\"line\":{\"colorbar\":{\"outlinewidth\":0,\"ticks\":\"\"}},\"marker\":{\"colorbar\":{\"outlinewidth\":0,\"ticks\":\"\"}}}],\"scattermapbox\":[{\"type\":\"scattermapbox\",\"marker\":{\"colorbar\":{\"outlinewidth\":0,\"ticks\":\"\"}}}],\"scatterternary\":[{\"type\":\"scatterternary\",\"marker\":{\"colorbar\":{\"outlinewidth\":0,\"ticks\":\"\"}}}],\"scattercarpet\":[{\"type\":\"scattercarpet\",\"marker\":{\"colorbar\":{\"outlinewidth\":0,\"ticks\":\"\"}}}],\"carpet\":[{\"aaxis\":{\"endlinecolor\":\"#2a3f5f\",\"gridcolor\":\"white\",\"linecolor\":\"white\",\"minorgridcolor\":\"white\",\"startlinecolor\":\"#2a3f5f\"},\"baxis\":{\"endlinecolor\":\"#2a3f5f\",\"gridcolor\":\"white\",\"linecolor\":\"white\",\"minorgridcolor\":\"white\",\"startlinecolor\":\"#2a3f5f\"},\"type\":\"carpet\"}],\"table\":[{\"cells\":{\"fill\":{\"color\":\"#EBF0F8\"},\"line\":{\"color\":\"white\"}},\"header\":{\"fill\":{\"color\":\"#C8D4E3\"},\"line\":{\"color\":\"white\"}},\"type\":\"table\"}],\"barpolar\":[{\"marker\":{\"line\":{\"color\":\"#E5ECF6\",\"width\":0.5},\"pattern\":{\"fillmode\":\"overlay\",\"size\":10,\"solidity\":0.2}},\"type\":\"barpolar\"}],\"pie\":[{\"automargin\":true,\"type\":\"pie\"}]},\"layout\":{\"autotypenumbers\":\"strict\",\"colorway\":[\"#636efa\",\"#EF553B\",\"#00cc96\",\"#ab63fa\",\"#FFA15A\",\"#19d3f3\",\"#FF6692\",\"#B6E880\",\"#FF97FF\",\"#FECB52\"],\"font\":{\"color\":\"#2a3f5f\"},\"hovermode\":\"closest\",\"hoverlabel\":{\"align\":\"left\"},\"paper_bgcolor\":\"white\",\"plot_bgcolor\":\"#E5ECF6\",\"polar\":{\"bgcolor\":\"#E5ECF6\",\"angularaxis\":{\"gridcolor\":\"white\",\"linecolor\":\"white\",\"ticks\":\"\"},\"radialaxis\":{\"gridcolor\":\"white\",\"linecolor\":\"white\",\"ticks\":\"\"}},\"ternary\":{\"bgcolor\":\"#E5ECF6\",\"aaxis\":{\"gridcolor\":\"white\",\"linecolor\":\"white\",\"ticks\":\"\"},\"baxis\":{\"gridcolor\":\"white\",\"linecolor\":\"white\",\"ticks\":\"\"},\"caxis\":{\"gridcolor\":\"white\",\"linecolor\":\"white\",\"ticks\":\"\"}},\"coloraxis\":{\"colorbar\":{\"outlinewidth\":0,\"ticks\":\"\"}},\"colorscale\":{\"sequential\":[[0.0,\"#0d0887\"],[0.1111111111111111,\"#46039f\"],[0.2222222222222222,\"#7201a8\"],[0.3333333333333333,\"#9c179e\"],[0.4444444444444444,\"#bd3786\"],[0.5555555555555556,\"#d8576b\"],[0.6666666666666666,\"#ed7953\"],[0.7777777777777778,\"#fb9f3a\"],[0.8888888888888888,\"#fdca26\"],[1.0,\"#f0f921\"]],\"sequentialminus\":[[0.0,\"#0d0887\"],[0.1111111111111111,\"#46039f\"],[0.2222222222222222,\"#7201a8\"],[0.3333333333333333,\"#9c179e\"],[0.4444444444444444,\"#bd3786\"],[0.5555555555555556,\"#d8576b\"],[0.6666666666666666,\"#ed7953\"],[0.7777777777777778,\"#fb9f3a\"],[0.8888888888888888,\"#fdca26\"],[1.0,\"#f0f921\"]],\"diverging\":[[0,\"#8e0152\"],[0.1,\"#c51b7d\"],[0.2,\"#de77ae\"],[0.3,\"#f1b6da\"],[0.4,\"#fde0ef\"],[0.5,\"#f7f7f7\"],[0.6,\"#e6f5d0\"],[0.7,\"#b8e186\"],[0.8,\"#7fbc41\"],[0.9,\"#4d9221\"],[1,\"#276419\"]]},\"xaxis\":{\"gridcolor\":\"white\",\"linecolor\":\"white\",\"ticks\":\"\",\"title\":{\"standoff\":15},\"zerolinecolor\":\"white\",\"automargin\":true,\"zerolinewidth\":2},\"yaxis\":{\"gridcolor\":\"white\",\"linecolor\":\"white\",\"ticks\":\"\",\"title\":{\"standoff\":15},\"zerolinecolor\":\"white\",\"automargin\":true,\"zerolinewidth\":2},\"scene\":{\"xaxis\":{\"backgroundcolor\":\"#E5ECF6\",\"gridcolor\":\"white\",\"linecolor\":\"white\",\"showbackground\":true,\"ticks\":\"\",\"zerolinecolor\":\"white\",\"gridwidth\":2},\"yaxis\":{\"backgroundcolor\":\"#E5ECF6\",\"gridcolor\":\"white\",\"linecolor\":\"white\",\"showbackground\":true,\"ticks\":\"\",\"zerolinecolor\":\"white\",\"gridwidth\":2},\"zaxis\":{\"backgroundcolor\":\"#E5ECF6\",\"gridcolor\":\"white\",\"linecolor\":\"white\",\"showbackground\":true,\"ticks\":\"\",\"zerolinecolor\":\"white\",\"gridwidth\":2}},\"shapedefaults\":{\"line\":{\"color\":\"#2a3f5f\"}},\"annotationdefaults\":{\"arrowcolor\":\"#2a3f5f\",\"arrowhead\":0,\"arrowwidth\":1},\"geo\":{\"bgcolor\":\"white\",\"landcolor\":\"#E5ECF6\",\"subunitcolor\":\"white\",\"showland\":true,\"showlakes\":true,\"lakecolor\":\"white\"},\"title\":{\"x\":0.05},\"mapbox\":{\"style\":\"light\"}}},\"xaxis\":{\"anchor\":\"y\",\"domain\":[0.0,1.0],\"title\":{\"text\":\"epochs\"},\"dtick\":1},\"yaxis\":{\"anchor\":\"x\",\"domain\":[0.0,1.0],\"title\":{\"text\":\"value\"},\"range\":[0,0.011]},\"legend\":{\"title\":{\"text\":\"variable\"},\"tracegroupgap\":0},\"title\":{\"text\":\"Average Binary Classification Entropy loss\"}},                        {\"responsive\": true}                    ).then(function(){\n",
              "                            \n",
              "var gd = document.getElementById('01e6fdb9-da0a-44e4-bc9c-4f2b0ba3c021');\n",
              "var x = new MutationObserver(function (mutations, observer) {{\n",
              "        var display = window.getComputedStyle(gd).display;\n",
              "        if (!display || display === 'none') {{\n",
              "            console.log([gd, 'removed!']);\n",
              "            Plotly.purge(gd);\n",
              "            observer.disconnect();\n",
              "        }}\n",
              "}});\n",
              "\n",
              "// Listen for the removal of the full notebook cells\n",
              "var notebookContainer = gd.closest('#notebook-container');\n",
              "if (notebookContainer) {{\n",
              "    x.observe(notebookContainer, {childList: true});\n",
              "}}\n",
              "\n",
              "// Listen for the clearing of the current output cell\n",
              "var outputEl = gd.closest('.output');\n",
              "if (outputEl) {{\n",
              "    x.observe(outputEl, {childList: true});\n",
              "}}\n",
              "\n",
              "                        })                };                            </script>        </div>\n",
              "</body>\n",
              "</html>"
            ]
          },
          "metadata": {}
        }
      ]
    },
    {
      "cell_type": "code",
      "source": [
        "fig = px.line(results, x='epochs', y=['train_f1', 'test_f1'], title='F1 score')\n",
        "fig.update_layout(yaxis_range=[0, 1.0])\n",
        "fig.update_xaxes(dtick=1)"
      ],
      "metadata": {
        "colab": {
          "base_uri": "https://localhost:8080/",
          "height": 542
        },
        "id": "89WuKgAiXnJq",
        "outputId": "6a7b7221-97a5-405a-cf53-5f856c00f90f"
      },
      "execution_count": null,
      "outputs": [
        {
          "output_type": "display_data",
          "data": {
            "text/html": [
              "<html>\n",
              "<head><meta charset=\"utf-8\" /></head>\n",
              "<body>\n",
              "    <div>            <script src=\"https://cdnjs.cloudflare.com/ajax/libs/mathjax/2.7.5/MathJax.js?config=TeX-AMS-MML_SVG\"></script><script type=\"text/javascript\">if (window.MathJax && window.MathJax.Hub && window.MathJax.Hub.Config) {window.MathJax.Hub.Config({SVG: {font: \"STIX-Web\"}});}</script>                <script type=\"text/javascript\">window.PlotlyConfig = {MathJaxConfig: 'local'};</script>\n",
              "        <script src=\"https://cdn.plot.ly/plotly-2.18.2.min.js\"></script>                <div id=\"0be6d8c5-7bdf-4e8a-ab81-7feafaf3f426\" class=\"plotly-graph-div\" style=\"height:525px; width:100%;\"></div>            <script type=\"text/javascript\">                                    window.PLOTLYENV=window.PLOTLYENV || {};                                    if (document.getElementById(\"0be6d8c5-7bdf-4e8a-ab81-7feafaf3f426\")) {                    Plotly.newPlot(                        \"0be6d8c5-7bdf-4e8a-ab81-7feafaf3f426\",                        [{\"hovertemplate\":\"variable=train_f1<br>epochs=%{x}<br>value=%{y}<extra></extra>\",\"legendgroup\":\"train_f1\",\"line\":{\"color\":\"#636efa\",\"dash\":\"solid\"},\"marker\":{\"symbol\":\"circle\"},\"mode\":\"lines\",\"name\":\"train_f1\",\"orientation\":\"v\",\"showlegend\":true,\"x\":[1,2,3,4,5,6,7,8,9,10,11,12,13,14,15],\"xaxis\":\"x\",\"y\":[0.3916913946587537,0.6944444444444444,0.7127962085308056,0.7515039333641832,0.7754915409236398,0.8075880758807588,0.8498886414253897,0.8566340160284951,0.8877005347593583,0.8958880139982501,0.9102058694699956,0.9087703834288233,0.9157573112178088,0.9256198347107438,0.9267446900736888],\"yaxis\":\"y\",\"type\":\"scatter\"},{\"hovertemplate\":\"variable=test_f1<br>epochs=%{x}<br>value=%{y}<extra></extra>\",\"legendgroup\":\"test_f1\",\"line\":{\"color\":\"#EF553B\",\"dash\":\"solid\"},\"marker\":{\"symbol\":\"circle\"},\"mode\":\"lines\",\"name\":\"test_f1\",\"orientation\":\"v\",\"showlegend\":true,\"x\":[1,2,3,4,5,6,7,8,9,10,11,12,13,14,15],\"xaxis\":\"x\",\"y\":[0.7316176470588236,0.6623376623376623,0.7766323024054982,0.7695238095238096,0.8184931506849316,0.8272058823529411,0.8545454545454546,0.8729874776386404,0.8608837970540099,0.8834782608695653,0.8705035971223022,0.8896434634974533,0.8949152542372882,0.8916083916083916,0.8903436988543372],\"yaxis\":\"y\",\"type\":\"scatter\"}],                        {\"template\":{\"data\":{\"histogram2dcontour\":[{\"type\":\"histogram2dcontour\",\"colorbar\":{\"outlinewidth\":0,\"ticks\":\"\"},\"colorscale\":[[0.0,\"#0d0887\"],[0.1111111111111111,\"#46039f\"],[0.2222222222222222,\"#7201a8\"],[0.3333333333333333,\"#9c179e\"],[0.4444444444444444,\"#bd3786\"],[0.5555555555555556,\"#d8576b\"],[0.6666666666666666,\"#ed7953\"],[0.7777777777777778,\"#fb9f3a\"],[0.8888888888888888,\"#fdca26\"],[1.0,\"#f0f921\"]]}],\"choropleth\":[{\"type\":\"choropleth\",\"colorbar\":{\"outlinewidth\":0,\"ticks\":\"\"}}],\"histogram2d\":[{\"type\":\"histogram2d\",\"colorbar\":{\"outlinewidth\":0,\"ticks\":\"\"},\"colorscale\":[[0.0,\"#0d0887\"],[0.1111111111111111,\"#46039f\"],[0.2222222222222222,\"#7201a8\"],[0.3333333333333333,\"#9c179e\"],[0.4444444444444444,\"#bd3786\"],[0.5555555555555556,\"#d8576b\"],[0.6666666666666666,\"#ed7953\"],[0.7777777777777778,\"#fb9f3a\"],[0.8888888888888888,\"#fdca26\"],[1.0,\"#f0f921\"]]}],\"heatmap\":[{\"type\":\"heatmap\",\"colorbar\":{\"outlinewidth\":0,\"ticks\":\"\"},\"colorscale\":[[0.0,\"#0d0887\"],[0.1111111111111111,\"#46039f\"],[0.2222222222222222,\"#7201a8\"],[0.3333333333333333,\"#9c179e\"],[0.4444444444444444,\"#bd3786\"],[0.5555555555555556,\"#d8576b\"],[0.6666666666666666,\"#ed7953\"],[0.7777777777777778,\"#fb9f3a\"],[0.8888888888888888,\"#fdca26\"],[1.0,\"#f0f921\"]]}],\"heatmapgl\":[{\"type\":\"heatmapgl\",\"colorbar\":{\"outlinewidth\":0,\"ticks\":\"\"},\"colorscale\":[[0.0,\"#0d0887\"],[0.1111111111111111,\"#46039f\"],[0.2222222222222222,\"#7201a8\"],[0.3333333333333333,\"#9c179e\"],[0.4444444444444444,\"#bd3786\"],[0.5555555555555556,\"#d8576b\"],[0.6666666666666666,\"#ed7953\"],[0.7777777777777778,\"#fb9f3a\"],[0.8888888888888888,\"#fdca26\"],[1.0,\"#f0f921\"]]}],\"contourcarpet\":[{\"type\":\"contourcarpet\",\"colorbar\":{\"outlinewidth\":0,\"ticks\":\"\"}}],\"contour\":[{\"type\":\"contour\",\"colorbar\":{\"outlinewidth\":0,\"ticks\":\"\"},\"colorscale\":[[0.0,\"#0d0887\"],[0.1111111111111111,\"#46039f\"],[0.2222222222222222,\"#7201a8\"],[0.3333333333333333,\"#9c179e\"],[0.4444444444444444,\"#bd3786\"],[0.5555555555555556,\"#d8576b\"],[0.6666666666666666,\"#ed7953\"],[0.7777777777777778,\"#fb9f3a\"],[0.8888888888888888,\"#fdca26\"],[1.0,\"#f0f921\"]]}],\"surface\":[{\"type\":\"surface\",\"colorbar\":{\"outlinewidth\":0,\"ticks\":\"\"},\"colorscale\":[[0.0,\"#0d0887\"],[0.1111111111111111,\"#46039f\"],[0.2222222222222222,\"#7201a8\"],[0.3333333333333333,\"#9c179e\"],[0.4444444444444444,\"#bd3786\"],[0.5555555555555556,\"#d8576b\"],[0.6666666666666666,\"#ed7953\"],[0.7777777777777778,\"#fb9f3a\"],[0.8888888888888888,\"#fdca26\"],[1.0,\"#f0f921\"]]}],\"mesh3d\":[{\"type\":\"mesh3d\",\"colorbar\":{\"outlinewidth\":0,\"ticks\":\"\"}}],\"scatter\":[{\"fillpattern\":{\"fillmode\":\"overlay\",\"size\":10,\"solidity\":0.2},\"type\":\"scatter\"}],\"parcoords\":[{\"type\":\"parcoords\",\"line\":{\"colorbar\":{\"outlinewidth\":0,\"ticks\":\"\"}}}],\"scatterpolargl\":[{\"type\":\"scatterpolargl\",\"marker\":{\"colorbar\":{\"outlinewidth\":0,\"ticks\":\"\"}}}],\"bar\":[{\"error_x\":{\"color\":\"#2a3f5f\"},\"error_y\":{\"color\":\"#2a3f5f\"},\"marker\":{\"line\":{\"color\":\"#E5ECF6\",\"width\":0.5},\"pattern\":{\"fillmode\":\"overlay\",\"size\":10,\"solidity\":0.2}},\"type\":\"bar\"}],\"scattergeo\":[{\"type\":\"scattergeo\",\"marker\":{\"colorbar\":{\"outlinewidth\":0,\"ticks\":\"\"}}}],\"scatterpolar\":[{\"type\":\"scatterpolar\",\"marker\":{\"colorbar\":{\"outlinewidth\":0,\"ticks\":\"\"}}}],\"histogram\":[{\"marker\":{\"pattern\":{\"fillmode\":\"overlay\",\"size\":10,\"solidity\":0.2}},\"type\":\"histogram\"}],\"scattergl\":[{\"type\":\"scattergl\",\"marker\":{\"colorbar\":{\"outlinewidth\":0,\"ticks\":\"\"}}}],\"scatter3d\":[{\"type\":\"scatter3d\",\"line\":{\"colorbar\":{\"outlinewidth\":0,\"ticks\":\"\"}},\"marker\":{\"colorbar\":{\"outlinewidth\":0,\"ticks\":\"\"}}}],\"scattermapbox\":[{\"type\":\"scattermapbox\",\"marker\":{\"colorbar\":{\"outlinewidth\":0,\"ticks\":\"\"}}}],\"scatterternary\":[{\"type\":\"scatterternary\",\"marker\":{\"colorbar\":{\"outlinewidth\":0,\"ticks\":\"\"}}}],\"scattercarpet\":[{\"type\":\"scattercarpet\",\"marker\":{\"colorbar\":{\"outlinewidth\":0,\"ticks\":\"\"}}}],\"carpet\":[{\"aaxis\":{\"endlinecolor\":\"#2a3f5f\",\"gridcolor\":\"white\",\"linecolor\":\"white\",\"minorgridcolor\":\"white\",\"startlinecolor\":\"#2a3f5f\"},\"baxis\":{\"endlinecolor\":\"#2a3f5f\",\"gridcolor\":\"white\",\"linecolor\":\"white\",\"minorgridcolor\":\"white\",\"startlinecolor\":\"#2a3f5f\"},\"type\":\"carpet\"}],\"table\":[{\"cells\":{\"fill\":{\"color\":\"#EBF0F8\"},\"line\":{\"color\":\"white\"}},\"header\":{\"fill\":{\"color\":\"#C8D4E3\"},\"line\":{\"color\":\"white\"}},\"type\":\"table\"}],\"barpolar\":[{\"marker\":{\"line\":{\"color\":\"#E5ECF6\",\"width\":0.5},\"pattern\":{\"fillmode\":\"overlay\",\"size\":10,\"solidity\":0.2}},\"type\":\"barpolar\"}],\"pie\":[{\"automargin\":true,\"type\":\"pie\"}]},\"layout\":{\"autotypenumbers\":\"strict\",\"colorway\":[\"#636efa\",\"#EF553B\",\"#00cc96\",\"#ab63fa\",\"#FFA15A\",\"#19d3f3\",\"#FF6692\",\"#B6E880\",\"#FF97FF\",\"#FECB52\"],\"font\":{\"color\":\"#2a3f5f\"},\"hovermode\":\"closest\",\"hoverlabel\":{\"align\":\"left\"},\"paper_bgcolor\":\"white\",\"plot_bgcolor\":\"#E5ECF6\",\"polar\":{\"bgcolor\":\"#E5ECF6\",\"angularaxis\":{\"gridcolor\":\"white\",\"linecolor\":\"white\",\"ticks\":\"\"},\"radialaxis\":{\"gridcolor\":\"white\",\"linecolor\":\"white\",\"ticks\":\"\"}},\"ternary\":{\"bgcolor\":\"#E5ECF6\",\"aaxis\":{\"gridcolor\":\"white\",\"linecolor\":\"white\",\"ticks\":\"\"},\"baxis\":{\"gridcolor\":\"white\",\"linecolor\":\"white\",\"ticks\":\"\"},\"caxis\":{\"gridcolor\":\"white\",\"linecolor\":\"white\",\"ticks\":\"\"}},\"coloraxis\":{\"colorbar\":{\"outlinewidth\":0,\"ticks\":\"\"}},\"colorscale\":{\"sequential\":[[0.0,\"#0d0887\"],[0.1111111111111111,\"#46039f\"],[0.2222222222222222,\"#7201a8\"],[0.3333333333333333,\"#9c179e\"],[0.4444444444444444,\"#bd3786\"],[0.5555555555555556,\"#d8576b\"],[0.6666666666666666,\"#ed7953\"],[0.7777777777777778,\"#fb9f3a\"],[0.8888888888888888,\"#fdca26\"],[1.0,\"#f0f921\"]],\"sequentialminus\":[[0.0,\"#0d0887\"],[0.1111111111111111,\"#46039f\"],[0.2222222222222222,\"#7201a8\"],[0.3333333333333333,\"#9c179e\"],[0.4444444444444444,\"#bd3786\"],[0.5555555555555556,\"#d8576b\"],[0.6666666666666666,\"#ed7953\"],[0.7777777777777778,\"#fb9f3a\"],[0.8888888888888888,\"#fdca26\"],[1.0,\"#f0f921\"]],\"diverging\":[[0,\"#8e0152\"],[0.1,\"#c51b7d\"],[0.2,\"#de77ae\"],[0.3,\"#f1b6da\"],[0.4,\"#fde0ef\"],[0.5,\"#f7f7f7\"],[0.6,\"#e6f5d0\"],[0.7,\"#b8e186\"],[0.8,\"#7fbc41\"],[0.9,\"#4d9221\"],[1,\"#276419\"]]},\"xaxis\":{\"gridcolor\":\"white\",\"linecolor\":\"white\",\"ticks\":\"\",\"title\":{\"standoff\":15},\"zerolinecolor\":\"white\",\"automargin\":true,\"zerolinewidth\":2},\"yaxis\":{\"gridcolor\":\"white\",\"linecolor\":\"white\",\"ticks\":\"\",\"title\":{\"standoff\":15},\"zerolinecolor\":\"white\",\"automargin\":true,\"zerolinewidth\":2},\"scene\":{\"xaxis\":{\"backgroundcolor\":\"#E5ECF6\",\"gridcolor\":\"white\",\"linecolor\":\"white\",\"showbackground\":true,\"ticks\":\"\",\"zerolinecolor\":\"white\",\"gridwidth\":2},\"yaxis\":{\"backgroundcolor\":\"#E5ECF6\",\"gridcolor\":\"white\",\"linecolor\":\"white\",\"showbackground\":true,\"ticks\":\"\",\"zerolinecolor\":\"white\",\"gridwidth\":2},\"zaxis\":{\"backgroundcolor\":\"#E5ECF6\",\"gridcolor\":\"white\",\"linecolor\":\"white\",\"showbackground\":true,\"ticks\":\"\",\"zerolinecolor\":\"white\",\"gridwidth\":2}},\"shapedefaults\":{\"line\":{\"color\":\"#2a3f5f\"}},\"annotationdefaults\":{\"arrowcolor\":\"#2a3f5f\",\"arrowhead\":0,\"arrowwidth\":1},\"geo\":{\"bgcolor\":\"white\",\"landcolor\":\"#E5ECF6\",\"subunitcolor\":\"white\",\"showland\":true,\"showlakes\":true,\"lakecolor\":\"white\"},\"title\":{\"x\":0.05},\"mapbox\":{\"style\":\"light\"}}},\"xaxis\":{\"anchor\":\"y\",\"domain\":[0.0,1.0],\"title\":{\"text\":\"epochs\"},\"dtick\":1},\"yaxis\":{\"anchor\":\"x\",\"domain\":[0.0,1.0],\"title\":{\"text\":\"value\"},\"range\":[0,1.0]},\"legend\":{\"title\":{\"text\":\"variable\"},\"tracegroupgap\":0},\"title\":{\"text\":\"F1 score\"}},                        {\"responsive\": true}                    ).then(function(){\n",
              "                            \n",
              "var gd = document.getElementById('0be6d8c5-7bdf-4e8a-ab81-7feafaf3f426');\n",
              "var x = new MutationObserver(function (mutations, observer) {{\n",
              "        var display = window.getComputedStyle(gd).display;\n",
              "        if (!display || display === 'none') {{\n",
              "            console.log([gd, 'removed!']);\n",
              "            Plotly.purge(gd);\n",
              "            observer.disconnect();\n",
              "        }}\n",
              "}});\n",
              "\n",
              "// Listen for the removal of the full notebook cells\n",
              "var notebookContainer = gd.closest('#notebook-container');\n",
              "if (notebookContainer) {{\n",
              "    x.observe(notebookContainer, {childList: true});\n",
              "}}\n",
              "\n",
              "// Listen for the clearing of the current output cell\n",
              "var outputEl = gd.closest('.output');\n",
              "if (outputEl) {{\n",
              "    x.observe(outputEl, {childList: true});\n",
              "}}\n",
              "\n",
              "                        })                };                            </script>        </div>\n",
              "</body>\n",
              "</html>"
            ]
          },
          "metadata": {}
        }
      ]
    },
    {
      "cell_type": "markdown",
      "source": [
        "The original CNN is performing slightly better than the shallow one, both in terms of loss/accuracy/F1 and also in terms of computational speed.\n",
        "\n",
        "Indeed, we removed one convolutional layer, however the output of the convolution is double the size (65536 vs 131072 parameters), hence the fully connected layer is much bigger.\n",
        "\n",
        "We reduced the size of the shallow CNN (in network called Small CNN) and we notice that the performance are slightly less than the Shallow's (even though are still comparable), but the memory consumption and the computational speed both gained from the size reduction.\n",
        "\n",
        "The last trial we did is to further reduce the network size, in the network called Mini CNN. We observe lower performance, but still acceptable (test accuracy 88% and F1 89%), but the dimention of the network greatly reduced, as well as the computational time required."
      ],
      "metadata": {
        "id": "7zUh9-gKh8Mx"
      }
    },
    {
      "cell_type": "code",
      "source": [],
      "metadata": {
        "id": "XPDFfSCLmTA2"
      },
      "execution_count": null,
      "outputs": []
    },
    {
      "cell_type": "markdown",
      "source": [
        "# Sequences - basic approach"
      ],
      "metadata": {
        "id": "8NTGEe946cxo"
      }
    },
    {
      "cell_type": "markdown",
      "source": [
        "The basic approach to work with sequences is to analyze each frame independently; then, we consider all the outputs from the individual frame to compute the final output of the model.\n",
        "\n",
        "Since we are considering each frame individually, we can reuse the already trained models.\n",
        "\n",
        "We are going to maintain the separation between train and test because it is going to be useful at later stages.\n",
        "\n",
        "But first, we need to load and prepare the data for torch"
      ],
      "metadata": {
        "id": "axlxviPy7P10"
      }
    },
    {
      "cell_type": "code",
      "source": [
        "import torch"
      ],
      "metadata": {
        "id": "HnmcjdOj8CHb"
      },
      "execution_count": 2,
      "outputs": []
    },
    {
      "cell_type": "markdown",
      "source": [
        "note that in this case the batches are the sequences themselves:\n",
        "we do not need a batch size, nor we need the data loader.\n",
        "\n",
        "Note that the data currently are not shuffled, but since we are not performing training but just inference, this is not a problem"
      ],
      "metadata": {
        "id": "eHDoz9oz8G2t"
      }
    },
    {
      "cell_type": "code",
      "source": [
        "device = torch.device(\"cuda:0\" if torch.cuda.is_available() else \"cpu\")"
      ],
      "metadata": {
        "id": "Nk2IYWNv8CHt"
      },
      "execution_count": 3,
      "outputs": []
    },
    {
      "cell_type": "code",
      "source": [
        "with open('/content/gdrive/MyDrive/P4_files/training_sequ.pkl', 'rb') as handle:\n",
        "  training_X = pickle.load(handle)\n",
        "\n",
        "with open('/content/gdrive/MyDrive/P4_files/training_sequ_labels.pkl', 'rb') as handle:\n",
        "  training_y = pickle.load(handle)\n",
        "\n",
        "with open('/content/gdrive/MyDrive/P4_files/test_sequ.pkl', 'rb') as handle:\n",
        "  test_X = pickle.load(handle)\n",
        "\n",
        "with open('/content/gdrive/MyDrive/P4_files/test_sequ_labels.pkl', 'rb') as handle:\n",
        "  test_y = pickle.load(handle)"
      ],
      "metadata": {
        "id": "DvDLJy-d8CHt"
      },
      "execution_count": 20,
      "outputs": []
    },
    {
      "cell_type": "code",
      "source": [
        "print(training_y)"
      ],
      "metadata": {
        "id": "RnMntFMpF_C_",
        "outputId": "9a567252-7d20-450a-ca7a-95e95500fd83",
        "colab": {
          "base_uri": "https://localhost:8080/"
        }
      },
      "execution_count": 21,
      "outputs": [
        {
          "output_type": "stream",
          "name": "stdout",
          "text": [
            "[1 1 1 1 1 1 1 1 1 1 1 1 1 1 1 1 1 1 1 1 1 1 1 1 1 1 1 1 1 1 1 1 1 1 1 1 1\n",
            " 1 1 1 1 1 1 1 1 1 1 1 1 1 1 1 1 1 1 1 1 1 1 1 1 1 1 1 1 0 0 0 0 0 0 0 0 0\n",
            " 0 0 0 0 0 0 0 0 0 0 0 0 0 0 0 0 0 0 0 0 0 0 0 0 0 0 0 0 0 0 0 0 0 0 0 0 0\n",
            " 0 0 0 0 0 0 0]\n"
          ]
        }
      ]
    },
    {
      "cell_type": "code",
      "source": [
        "# Create the training set as a iterable collection of sequences + corresponding label\n",
        "# Note that at this stage we perform the conversion to Tensor, and we also normalize the images\n",
        "train_dataset = []\n",
        "\n",
        "for idx, sequ in enumerate(training_X):\n",
        "  tmp_x = torch.Tensor(sequ) / 255.0\n",
        "  train_dataset.append((tmp_x, training_y[idx]))"
      ],
      "metadata": {
        "id": "2RQtmrlP9N79"
      },
      "execution_count": 24,
      "outputs": []
    },
    {
      "cell_type": "code",
      "source": [
        "# Create the training set as a iterable collection of sequences + corresponding label\n",
        "# Note that at this stage we perform the conversion to Tensor, and we also normalize the images\n",
        "test_dataset = []\n",
        "\n",
        "for idx, sequ in enumerate(test_X):\n",
        "  tmp_x = torch.Tensor(sequ) / 255.0\n",
        "  tmp_y = torch.Tensor(test_y[idx])\n",
        "  test_dataset.append((tmp_x, tmp_y))"
      ],
      "metadata": {
        "id": "eqRL7D2M-KsH"
      },
      "execution_count": 6,
      "outputs": []
    },
    {
      "cell_type": "markdown",
      "source": [
        "Let's initialize the model and load the state dictionary from the saved file\n"
      ],
      "metadata": {
        "id": "hb-AK-Y0_Irv"
      }
    },
    {
      "cell_type": "code",
      "source": [
        "model = CNN().to(device)          # GPU\n",
        "# model = SmallCNN().to(device)     # GPU"
      ],
      "metadata": {
        "id": "d9QELgfP-v8d"
      },
      "execution_count": 11,
      "outputs": []
    },
    {
      "cell_type": "code",
      "source": [
        "model.load_state_dict(torch.load('/content/gdrive/MyDrive/P4_files/trained_model.pkl'))"
      ],
      "metadata": {
        "id": "ZWjeMNxyABHB",
        "outputId": "1c991ea9-e63a-4fa6-a1f5-e6f59785d851",
        "colab": {
          "base_uri": "https://localhost:8080/"
        }
      },
      "execution_count": 12,
      "outputs": [
        {
          "output_type": "execute_result",
          "data": {
            "text/plain": [
              "<All keys matched successfully>"
            ]
          },
          "metadata": {},
          "execution_count": 12
        }
      ]
    },
    {
      "cell_type": "markdown",
      "source": [
        "Since we are working with sequences rather then single frames, we need to add an extra step: we need to merge all the frames predictions in one sequence prediction. We try two different approaches:\n",
        "- We **average** the frames prediction\n",
        "- We **max pool** the frames rounded predictions"
      ],
      "metadata": {
        "id": "sEVjA3TbAh6t"
      }
    },
    {
      "cell_type": "code",
      "source": [
        "# as score measure we compute the Confusion Matrix\n",
        "# Note - it will be read:\n",
        "#     pred\n",
        "# t\n",
        "# r\n",
        "# u\n",
        "# e\n",
        "avg_conf_matrix = np.zeros((2,2))\n",
        "pool_conf_matrix = np.zeros((2,2))\n",
        "\n",
        "# loop over the training set\n",
        "for (x, y) in train_dataset:\n",
        "\n",
        "  (x, y) = (x.to(device), y)\n",
        "  x = torch.reshape(x, (-1, 1, 256, 256))\n",
        "  # perform a forward pass and calculate the training loss\n",
        "  pred = model(x)\n",
        "  pred = torch.reshape(pred, (-1,))\n",
        "\n",
        "  # now we need to aggregate together the predictions\n",
        "  avg_pred = torch.round(torch.mean(pred)).item()\n",
        "\n",
        "  # do max pooling\n",
        "  pos_frames = torch.round(pred).sum()\n",
        "\n",
        "  if pos_frames >= pred.shape[0] - pos_frames:\n",
        "    pool_pred = 1\n",
        "  else:\n",
        "    pool_pred = 0\n",
        "\n",
        "  # Increase the score counts\n",
        "  avg_conf_matrix[y][int(avg_pred)] += 1\n",
        "  pool_conf_matrix[y][int(pool_pred)] += 1"
      ],
      "metadata": {
        "id": "qexsRY0_DaJG"
      },
      "execution_count": 31,
      "outputs": []
    },
    {
      "cell_type": "code",
      "source": [
        "import seaborn as sns\n",
        "\n",
        "ax= plt.subplot()\n",
        "sns.heatmap(avg_conf_matrix, cmap='tab20c', annot=True, fmt='g', ax=ax);  #annot=True to annotate cells, ftm='g' to disable scientific notation\n",
        "\n",
        "# labels, title and ticks\n",
        "ax.set_xlabel('Predicted labels');ax.set_ylabel('True labels');\n",
        "ax.set_title('Average Approach: Confusion Matrix');"
      ],
      "metadata": {
        "id": "dVU2pxqZHUpm",
        "outputId": "e23f9fc7-d732-4841-b781-a0580534a0bf",
        "colab": {
          "base_uri": "https://localhost:8080/",
          "height": 472
        }
      },
      "execution_count": 32,
      "outputs": [
        {
          "output_type": "display_data",
          "data": {
            "text/plain": [
              "<Figure size 640x480 with 2 Axes>"
            ],
            "image/png": "[encoded data removed]"
          },
          "metadata": {}
        }
      ]
    },
    {
      "cell_type": "code",
      "source": [
        "ax= plt.subplot()\n",
        "sns.heatmap(pool_conf_matrix, cmap='tab20c', annot=True, fmt='g', ax=ax);  #annot=True to annotate cells, ftm='g' to disable scientific notation\n",
        "\n",
        "# labels, title and ticks\n",
        "ax.set_xlabel('Predicted labels');ax.set_ylabel('True labels');\n",
        "ax.set_title('Max Pool Approach: Confusion Matrix');"
      ],
      "metadata": {
        "id": "tkbnK1WnHc3z",
        "outputId": "ed67a2cc-66c4-4069-b05b-f053e54b8a96",
        "colab": {
          "base_uri": "https://localhost:8080/",
          "height": 472
        }
      },
      "execution_count": 33,
      "outputs": [
        {
          "output_type": "display_data",
          "data": {
            "text/plain": [
              "<Figure size 640x480 with 2 Axes>"
            ],
            "image/png": "[encoded data removed]"
          },
          "metadata": {}
        }
      ]
    }
  ]
}